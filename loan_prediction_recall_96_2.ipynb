{
  "nbformat": 4,
  "nbformat_minor": 0,
  "metadata": {
    "kernelspec": {
      "name": "python3",
      "display_name": "Python 3",
      "language": "python"
    },
    "language_info": {
      "name": "python",
      "version": "3.7.6",
      "mimetype": "text/x-python",
      "codemirror_mode": {
        "name": "ipython",
        "version": 3
      },
      "pygments_lexer": "ipython3",
      "nbconvert_exporter": "python",
      "file_extension": ".py"
    },
    "colab": {
      "name": "loan-prediction-recall-96-2.ipynb",
      "provenance": []
    }
  },
  "cells": [
    {
      "cell_type": "code",
      "metadata": {
        "id": "unRW6QwKyX27",
        "trusted": true,
        "colab_type": "code",
        "colab": {
          "base_uri": "https://localhost:8080/",
          "height": 103
        },
        "outputId": "7385a75f-5ccc-40bc-b6ec-e36996975569"
      },
      "source": [
        "import pandas as pd\n",
        "import numpy as np\n",
        "from sklearn import preprocessing \n",
        "from fancyimpute import KNN   \n",
        "import seaborn as sns\n",
        "from sklearn.ensemble import GradientBoostingClassifier\n",
        "from sklearn.model_selection import GridSearchCV, cross_val_score\n",
        "from sklearn.metrics import cohen_kappa_score, make_scorer\n",
        "from xgboost import XGBClassifier\n",
        "from sklearn.neighbors import KNeighborsClassifier\n",
        "from sklearn.metrics import confusion_matrix\n",
        "from sklearn.naive_bayes import GaussianNB\n",
        "from sklearn.tree import DecisionTreeClassifier\n",
        "from sklearn.ensemble import RandomForestClassifier\n",
        "from sklearn.metrics import recall_score\n",
        "from sklearn.metrics import accuracy_score"
      ],
      "execution_count": null,
      "outputs": [
        {
          "output_type": "stream",
          "text": [
            "/usr/local/lib/python3.6/dist-packages/sklearn/externals/six.py:31: FutureWarning: The module is deprecated in version 0.21 and will be removed in version 0.23 since we've dropped support for Python 2.7. Please rely on the official version of six (https://pypi.org/project/six/).\n",
            "  \"(https://pypi.org/project/six/).\", FutureWarning)\n",
            "/usr/local/lib/python3.6/dist-packages/statsmodels/tools/_testing.py:19: FutureWarning: pandas.util.testing is deprecated. Use the functions in the public API at pandas.testing instead.\n",
            "  import pandas.util.testing as tm\n"
          ],
          "name": "stderr"
        }
      ]
    },
    {
      "cell_type": "code",
      "metadata": {
        "id": "99G9VzU-0qiP",
        "trusted": true,
        "colab_type": "code",
        "colab": {}
      },
      "source": [
        "train=pd.read_csv(\"train.csv\")\n",
        "test=pd.read_csv(\"test.csv\")"
      ],
      "execution_count": null,
      "outputs": []
    },
    {
      "cell_type": "code",
      "metadata": {
        "id": "RhZk6-R41DJa",
        "trusted": true,
        "colab_type": "code",
        "colab": {
          "base_uri": "https://localhost:8080/",
          "height": 107
        },
        "outputId": "35ebafea-dd76-4a79-c0bc-44ada8b56063"
      },
      "source": [
        "train.head(2)"
      ],
      "execution_count": null,
      "outputs": [
        {
          "output_type": "execute_result",
          "data": {
            "text/html": [
              "<div>\n",
              "<style scoped>\n",
              "    .dataframe tbody tr th:only-of-type {\n",
              "        vertical-align: middle;\n",
              "    }\n",
              "\n",
              "    .dataframe tbody tr th {\n",
              "        vertical-align: top;\n",
              "    }\n",
              "\n",
              "    .dataframe thead th {\n",
              "        text-align: right;\n",
              "    }\n",
              "</style>\n",
              "<table border=\"1\" class=\"dataframe\">\n",
              "  <thead>\n",
              "    <tr style=\"text-align: right;\">\n",
              "      <th></th>\n",
              "      <th>Loan_ID</th>\n",
              "      <th>Gender</th>\n",
              "      <th>Married</th>\n",
              "      <th>Dependents</th>\n",
              "      <th>Education</th>\n",
              "      <th>Self_Employed</th>\n",
              "      <th>ApplicantIncome</th>\n",
              "      <th>CoapplicantIncome</th>\n",
              "      <th>LoanAmount</th>\n",
              "      <th>Loan_Amount_Term</th>\n",
              "      <th>Credit_History</th>\n",
              "      <th>Property_Area</th>\n",
              "      <th>Loan_Status</th>\n",
              "    </tr>\n",
              "  </thead>\n",
              "  <tbody>\n",
              "    <tr>\n",
              "      <th>0</th>\n",
              "      <td>LP001002</td>\n",
              "      <td>Male</td>\n",
              "      <td>No</td>\n",
              "      <td>0</td>\n",
              "      <td>Graduate</td>\n",
              "      <td>No</td>\n",
              "      <td>5849</td>\n",
              "      <td>0.0</td>\n",
              "      <td>NaN</td>\n",
              "      <td>360.0</td>\n",
              "      <td>1.0</td>\n",
              "      <td>Urban</td>\n",
              "      <td>Y</td>\n",
              "    </tr>\n",
              "    <tr>\n",
              "      <th>1</th>\n",
              "      <td>LP001003</td>\n",
              "      <td>Male</td>\n",
              "      <td>Yes</td>\n",
              "      <td>1</td>\n",
              "      <td>Graduate</td>\n",
              "      <td>No</td>\n",
              "      <td>4583</td>\n",
              "      <td>1508.0</td>\n",
              "      <td>128.0</td>\n",
              "      <td>360.0</td>\n",
              "      <td>1.0</td>\n",
              "      <td>Rural</td>\n",
              "      <td>N</td>\n",
              "    </tr>\n",
              "  </tbody>\n",
              "</table>\n",
              "</div>"
            ],
            "text/plain": [
              "    Loan_ID Gender Married  ... Credit_History Property_Area Loan_Status\n",
              "0  LP001002   Male      No  ...            1.0         Urban           Y\n",
              "1  LP001003   Male     Yes  ...            1.0         Rural           N\n",
              "\n",
              "[2 rows x 13 columns]"
            ]
          },
          "metadata": {
            "tags": []
          },
          "execution_count": 4
        }
      ]
    },
    {
      "cell_type": "code",
      "metadata": {
        "id": "2goaS77q1FTs",
        "trusted": true,
        "colab_type": "code",
        "colab": {}
      },
      "source": [
        "#Loan ID is dropped because it is not required\n",
        "train=train.drop([\"Loan_ID\"],axis=1)\n",
        "test=test.drop([\"Loan_ID\"],axis=1)"
      ],
      "execution_count": null,
      "outputs": []
    },
    {
      "cell_type": "code",
      "metadata": {
        "id": "Uw2k8p9K1cqf",
        "trusted": true,
        "colab_type": "code",
        "colab": {
          "base_uri": "https://localhost:8080/",
          "height": 233
        },
        "outputId": "7beffeee-ac09-4785-f39a-c4d443c2ebb1"
      },
      "source": [
        "print(train.isnull().sum())"
      ],
      "execution_count": null,
      "outputs": [
        {
          "output_type": "stream",
          "text": [
            "Gender               13\n",
            "Married               3\n",
            "Dependents           15\n",
            "Education             0\n",
            "Self_Employed        32\n",
            "ApplicantIncome       0\n",
            "CoapplicantIncome     0\n",
            "LoanAmount           22\n",
            "Loan_Amount_Term     14\n",
            "Credit_History       50\n",
            "Property_Area         0\n",
            "Loan_Status           0\n",
            "dtype: int64\n"
          ],
          "name": "stdout"
        }
      ]
    },
    {
      "cell_type": "code",
      "metadata": {
        "id": "D2dLEgW03Lnh",
        "trusted": true,
        "colab_type": "code",
        "colab": {
          "base_uri": "https://localhost:8080/",
          "height": 333
        },
        "outputId": "e74d83a3-0f49-4ab4-a866-4f86dc84ab4c"
      },
      "source": [
        "train.info()"
      ],
      "execution_count": null,
      "outputs": [
        {
          "output_type": "stream",
          "text": [
            "<class 'pandas.core.frame.DataFrame'>\n",
            "RangeIndex: 614 entries, 0 to 613\n",
            "Data columns (total 12 columns):\n",
            " #   Column             Non-Null Count  Dtype  \n",
            "---  ------             --------------  -----  \n",
            " 0   Gender             601 non-null    object \n",
            " 1   Married            611 non-null    object \n",
            " 2   Dependents         599 non-null    object \n",
            " 3   Education          614 non-null    object \n",
            " 4   Self_Employed      582 non-null    object \n",
            " 5   ApplicantIncome    614 non-null    int64  \n",
            " 6   CoapplicantIncome  614 non-null    float64\n",
            " 7   LoanAmount         592 non-null    float64\n",
            " 8   Loan_Amount_Term   600 non-null    float64\n",
            " 9   Credit_History     564 non-null    float64\n",
            " 10  Property_Area      614 non-null    object \n",
            " 11  Loan_Status        614 non-null    object \n",
            "dtypes: float64(4), int64(1), object(7)\n",
            "memory usage: 57.7+ KB\n"
          ],
          "name": "stdout"
        }
      ]
    },
    {
      "cell_type": "code",
      "metadata": {
        "id": "A1_7dq_26aAX",
        "trusted": true,
        "colab_type": "code",
        "colab": {}
      },
      "source": [
        "#Credit History and Loan Amount Term are categorical variables\n",
        "train[\"Credit_History\"]=train[\"Credit_History\"].astype(\"object\")"
      ],
      "execution_count": null,
      "outputs": []
    },
    {
      "cell_type": "code",
      "metadata": {
        "id": "r4pVz-pQ5Onk",
        "trusted": true,
        "colab_type": "code",
        "colab": {}
      },
      "source": [
        "#KNN imputation\n",
        "#Assigning levels to the categories\n",
        "lis = []\n",
        "for i in range(0, train.shape[1]):\n",
        "    if(train.iloc[:,i].dtypes == 'object'):\n",
        "        train.iloc[:,i] = pd.Categorical(train.iloc[:,i])\n",
        "        train.iloc[:,i] = train.iloc[:,i].cat.codes \n",
        "        train.iloc[:,i] = train.iloc[:,i].astype('object')\n",
        "        lis.append(train.columns[i])"
      ],
      "execution_count": null,
      "outputs": []
    },
    {
      "cell_type": "code",
      "metadata": {
        "id": "xQGaGm6A7q4i",
        "trusted": true,
        "colab_type": "code",
        "colab": {}
      },
      "source": [
        "#replace -1 with NA to impute\n",
        "for i in range(0, train.shape[1]):\n",
        "    train.iloc[:,i] = train.iloc[:,i].replace(-1, np.nan) "
      ],
      "execution_count": null,
      "outputs": []
    },
    {
      "cell_type": "code",
      "metadata": {
        "id": "0WB0J7ZY737z",
        "trusted": true,
        "colab_type": "code",
        "colab": {
          "base_uri": "https://localhost:8080/",
          "height": 133
        },
        "outputId": "cee54635-9c90-4f5a-9273-7da8a5ca4ec3"
      },
      "source": [
        "#Apply KNN imputation algorithm\n",
        "train = pd.DataFrame(KNN(k = 3).fit_transform(train), columns = train.columns)"
      ],
      "execution_count": null,
      "outputs": [
        {
          "output_type": "stream",
          "text": [
            "Imputing row 1/614 with 1 missing, elapsed time: 0.073\n",
            "Imputing row 101/614 with 0 missing, elapsed time: 0.074\n",
            "Imputing row 201/614 with 0 missing, elapsed time: 0.075\n",
            "Imputing row 301/614 with 0 missing, elapsed time: 0.076\n",
            "Imputing row 401/614 with 0 missing, elapsed time: 0.077\n",
            "Imputing row 501/614 with 0 missing, elapsed time: 0.078\n",
            "Imputing row 601/614 with 2 missing, elapsed time: 0.079\n"
          ],
          "name": "stdout"
        }
      ]
    },
    {
      "cell_type": "code",
      "metadata": {
        "id": "30dJBN5r8psv",
        "trusted": true,
        "colab_type": "code",
        "colab": {}
      },
      "source": [
        "#Convert into proper datatypes\n",
        "for i in lis:\n",
        "    train.loc[:,i] = train.loc[:,i].round()\n",
        "    train.loc[:,i] = train.loc[:,i].astype('object')"
      ],
      "execution_count": null,
      "outputs": []
    },
    {
      "cell_type": "code",
      "metadata": {
        "id": "wiDz4Lin9Xnu",
        "trusted": true,
        "colab_type": "code",
        "colab": {
          "base_uri": "https://localhost:8080/",
          "height": 197
        },
        "outputId": "290392b8-6826-44f1-9e49-64b5448e32f0"
      },
      "source": [
        "train.head()"
      ],
      "execution_count": null,
      "outputs": [
        {
          "output_type": "execute_result",
          "data": {
            "text/html": [
              "<div>\n",
              "<style scoped>\n",
              "    .dataframe tbody tr th:only-of-type {\n",
              "        vertical-align: middle;\n",
              "    }\n",
              "\n",
              "    .dataframe tbody tr th {\n",
              "        vertical-align: top;\n",
              "    }\n",
              "\n",
              "    .dataframe thead th {\n",
              "        text-align: right;\n",
              "    }\n",
              "</style>\n",
              "<table border=\"1\" class=\"dataframe\">\n",
              "  <thead>\n",
              "    <tr style=\"text-align: right;\">\n",
              "      <th></th>\n",
              "      <th>Gender</th>\n",
              "      <th>Married</th>\n",
              "      <th>Dependents</th>\n",
              "      <th>Education</th>\n",
              "      <th>Self_Employed</th>\n",
              "      <th>ApplicantIncome</th>\n",
              "      <th>CoapplicantIncome</th>\n",
              "      <th>LoanAmount</th>\n",
              "      <th>Loan_Amount_Term</th>\n",
              "      <th>Credit_History</th>\n",
              "      <th>Property_Area</th>\n",
              "      <th>Loan_Status</th>\n",
              "    </tr>\n",
              "  </thead>\n",
              "  <tbody>\n",
              "    <tr>\n",
              "      <th>0</th>\n",
              "      <td>1</td>\n",
              "      <td>0</td>\n",
              "      <td>0</td>\n",
              "      <td>0</td>\n",
              "      <td>0</td>\n",
              "      <td>5849.0</td>\n",
              "      <td>0.0</td>\n",
              "      <td>139.237669</td>\n",
              "      <td>360.0</td>\n",
              "      <td>1</td>\n",
              "      <td>2</td>\n",
              "      <td>1</td>\n",
              "    </tr>\n",
              "    <tr>\n",
              "      <th>1</th>\n",
              "      <td>1</td>\n",
              "      <td>1</td>\n",
              "      <td>1</td>\n",
              "      <td>0</td>\n",
              "      <td>0</td>\n",
              "      <td>4583.0</td>\n",
              "      <td>1508.0</td>\n",
              "      <td>128.000000</td>\n",
              "      <td>360.0</td>\n",
              "      <td>1</td>\n",
              "      <td>0</td>\n",
              "      <td>0</td>\n",
              "    </tr>\n",
              "    <tr>\n",
              "      <th>2</th>\n",
              "      <td>1</td>\n",
              "      <td>1</td>\n",
              "      <td>0</td>\n",
              "      <td>0</td>\n",
              "      <td>1</td>\n",
              "      <td>3000.0</td>\n",
              "      <td>0.0</td>\n",
              "      <td>66.000000</td>\n",
              "      <td>360.0</td>\n",
              "      <td>1</td>\n",
              "      <td>2</td>\n",
              "      <td>1</td>\n",
              "    </tr>\n",
              "    <tr>\n",
              "      <th>3</th>\n",
              "      <td>1</td>\n",
              "      <td>1</td>\n",
              "      <td>0</td>\n",
              "      <td>1</td>\n",
              "      <td>0</td>\n",
              "      <td>2583.0</td>\n",
              "      <td>2358.0</td>\n",
              "      <td>120.000000</td>\n",
              "      <td>360.0</td>\n",
              "      <td>1</td>\n",
              "      <td>2</td>\n",
              "      <td>1</td>\n",
              "    </tr>\n",
              "    <tr>\n",
              "      <th>4</th>\n",
              "      <td>1</td>\n",
              "      <td>0</td>\n",
              "      <td>0</td>\n",
              "      <td>0</td>\n",
              "      <td>0</td>\n",
              "      <td>6000.0</td>\n",
              "      <td>0.0</td>\n",
              "      <td>141.000000</td>\n",
              "      <td>360.0</td>\n",
              "      <td>1</td>\n",
              "      <td>2</td>\n",
              "      <td>1</td>\n",
              "    </tr>\n",
              "  </tbody>\n",
              "</table>\n",
              "</div>"
            ],
            "text/plain": [
              "  Gender Married Dependents  ... Credit_History Property_Area  Loan_Status\n",
              "0      1       0          0  ...              1             2            1\n",
              "1      1       1          1  ...              1             0            0\n",
              "2      1       1          0  ...              1             2            1\n",
              "3      1       1          0  ...              1             2            1\n",
              "4      1       0          0  ...              1             2            1\n",
              "\n",
              "[5 rows x 12 columns]"
            ]
          },
          "metadata": {
            "tags": []
          },
          "execution_count": 13
        }
      ]
    },
    {
      "cell_type": "code",
      "metadata": {
        "id": "Hx23coJJ9Zft",
        "trusted": true,
        "colab_type": "code",
        "colab": {
          "base_uri": "https://localhost:8080/",
          "height": 372
        },
        "outputId": "94431679-5582-41d1-c068-2bcac8ce67bc"
      },
      "source": [
        "#Checking correlation between continuous variable\n",
        "numvar=[\"ApplicantIncome\",\"CoapplicantIncome\",\"LoanAmount\",\"Loan_Amount_Term\"]\n",
        "df_corr = train.loc[:,numvar]\n",
        "sns.heatmap(df_corr.corr(), annot = True, fmt='.2g',cmap= 'coolwarm')"
      ],
      "execution_count": null,
      "outputs": [
        {
          "output_type": "execute_result",
          "data": {
            "text/plain": [
              "<matplotlib.axes._subplots.AxesSubplot at 0x7fbad3d78cf8>"
            ]
          },
          "metadata": {
            "tags": []
          },
          "execution_count": 14
        },
        {
          "output_type": "display_data",
          "data": {
            "image/png": "[encoded data removed]",
            "text/plain": [
              "<Figure size 432x288 with 2 Axes>"
            ]
          },
          "metadata": {
            "tags": [],
            "needs_background": "light"
          }
        }
      ]
    },
    {
      "cell_type": "code",
      "metadata": {
        "id": "7MDqqpW--nlb",
        "trusted": true,
        "colab_type": "code",
        "colab": {}
      },
      "source": [
        "#Standardizing the numerical variables\n",
        "train[\"ApplicantIncome\"]= (train[\"ApplicantIncome\"] - train[\"ApplicantIncome\"].mean())/train[\"ApplicantIncome\"].std()\n",
        "train[\"CoapplicantIncome\"]= (train[\"CoapplicantIncome\"] - train[\"CoapplicantIncome\"].mean())/train[\"CoapplicantIncome\"].std()\n",
        "train[\"LoanAmount\"]= (train[\"LoanAmount\"] - train[\"LoanAmount\"].mean())/train[\"LoanAmount\"].std()\n",
        "train[\"Loan_Amount_Term\"]= (train[\"Loan_Amount_Term\"] - train[\"Loan_Amount_Term\"].mean())/train[\"Loan_Amount_Term\"].std()"
      ],
      "execution_count": null,
      "outputs": []
    },
    {
      "cell_type": "code",
      "metadata": {
        "id": "IzCEuyo5_rGh",
        "trusted": true,
        "colab_type": "code",
        "colab": {}
      },
      "source": [
        "X=train.drop([\"Loan_Status\"],axis=1)\n",
        "Y=train[\"Loan_Status\"]\n",
        "Y=Y.astype(int)\n",
        "x=np.array(X)\n",
        "y=np.array(Y)"
      ],
      "execution_count": null,
      "outputs": []
    },
    {
      "cell_type": "code",
      "metadata": {
        "id": "Rh0Pzj51Aq23",
        "trusted": true,
        "colab_type": "code",
        "colab": {}
      },
      "source": [
        "#GBM and XGBoost\n",
        "gbm = GradientBoostingClassifier()\n",
        "xgb = XGBClassifier()"
      ],
      "execution_count": null,
      "outputs": []
    },
    {
      "cell_type": "code",
      "metadata": {
        "id": "76fBaeyrBTO-",
        "trusted": true,
        "colab_type": "code",
        "colab": {
          "base_uri": "https://localhost:8080/",
          "height": 50
        },
        "outputId": "c7508e8f-0a4e-4168-fb13-a512220149fc"
      },
      "source": [
        "best_gbm = GridSearchCV(gbm, param_grid={'learning_rate':[0.01,0.05,0.1],'max_depth':[3,4,5],'n_estimators':[500]}, cv=5,scoring=\"accuracy\", n_jobs=-1)\n",
        "best_xgb = GridSearchCV(xgb, param_grid={'learning_rate':[0.01,0.05,0.1],'max_depth':[3,4,5],'n_estimators':[500]}, cv=5,scoring=\"accuracy\", n_jobs=-1)\n",
        "best_gbm.fit(x,y)\n",
        "best_xgb.fit(x,y)\n",
        "scores = cross_val_score(best_gbm.best_estimator_, x, y,scoring=\"accuracy\", cv=5)\n",
        "print(\"GBM Cross validation accuracy score: {0:.2%} (+/- {1:.2%})\".format(np.mean(scores), np.std(scores)*2))\n",
        "scores = cross_val_score(best_xgb.best_estimator_, x, y,scoring=\"accuracy\", cv=5)\n",
        "print(\"XGBoost Cross validation accuracy score: {0:.2%} (+/- {1:.2%})\".format(np.mean(scores), np.std(scores)*2))"
      ],
      "execution_count": null,
      "outputs": [
        {
          "output_type": "stream",
          "text": [
            "GBM Cross validation accuracy score: 79.65% (+/- 5.86%)\n",
            "XGBoost Cross validation accuracy score: 79.97% (+/- 4.63%)\n"
          ],
          "name": "stdout"
        }
      ]
    },
    {
      "cell_type": "code",
      "metadata": {
        "id": "DoSShwNNBb_8",
        "trusted": true,
        "colab_type": "code",
        "colab": {
          "base_uri": "https://localhost:8080/",
          "height": 50
        },
        "outputId": "d353a1d7-88fc-4db5-da29-e32932f67dec"
      },
      "source": [
        "best_gbm1 = GridSearchCV(gbm, param_grid={'learning_rate':[0.01,0.05,0.1],'max_depth':[3,4,5],'n_estimators':[500]}, cv=5,scoring=\"recall\", n_jobs=-1)\n",
        "best_xgb1 = GridSearchCV(xgb, param_grid={'learning_rate':[0.01,0.05,0.1],'max_depth':[3,4,5],'n_estimators':[500]}, cv=5,scoring=\"recall\", n_jobs=-1)\n",
        "best_gbm1.fit(x,y)\n",
        "best_xgb1.fit(x,y)\n",
        "scores = cross_val_score(best_gbm1.best_estimator_, x, y,scoring=\"recall\", cv=5)\n",
        "print(\"GBM Cross validation recall score: {0:.2%} (+/- {1:.2%})\".format(np.mean(scores), np.std(scores)*2))\n",
        "scores = cross_val_score(best_xgb1.best_estimator_, x, y,scoring=\"recall\", cv=5)\n",
        "print(\"XGBoost Cross validation recall score: {0:.2%} (+/- {1:.2%})\".format(np.mean(scores), np.std(scores)*2))"
      ],
      "execution_count": null,
      "outputs": [
        {
          "output_type": "stream",
          "text": [
            "GBM Cross validation recall score: 95.26% (+/- 3.36%)\n",
            "XGBoost Cross validation recall score: 96.20% (+/- 1.80%)\n"
          ],
          "name": "stdout"
        }
      ]
    },
    {
      "cell_type": "code",
      "metadata": {
        "id": "DsJAGylhGKOE",
        "trusted": true,
        "colab_type": "code",
        "colab": {},
        "outputId": "08536c72-3dac-4e43-cd3f-9d38b6894be8"
      },
      "source": [
        "#Naive Bayes\n",
        "parameters = {'priors':[[0.01, 0.99],[0.1, 0.9], [0.2, 0.8], [0.25, 0.75], [0.3, 0.7],[0.35, 0.65], [0.4, 0.6],[0.45,0.55],[0.5,0.5],[0.55,0.45],[0.6,0.4]]}\n",
        "nb = GridSearchCV(GaussianNB(), parameters, scoring = 'accuracy', n_jobs=-1)\n",
        "nb.fit(x, y)\n",
        "scores = cross_val_score(nb, x, y,scoring = 'accuracy', cv=5)\n",
        "print(\"Cross validation accuracy score: {0:.2%} (+/- {1:.2%})\".format(np.mean(scores), np.std(scores)*2))"
      ],
      "execution_count": null,
      "outputs": [
        {
          "output_type": "stream",
          "text": [
            "Cross validation accuracy score: 79.97% (+/- 5.83%)\n"
          ],
          "name": "stdout"
        }
      ]
    },
    {
      "cell_type": "code",
      "metadata": {
        "trusted": true,
        "id": "Yn5_dfGumz4A",
        "colab_type": "code",
        "colab": {},
        "outputId": "14a6b11a-5175-4525-dff0-9e849fdb6bd8"
      },
      "source": [
        "nb1 = GridSearchCV(GaussianNB(), parameters, scoring = 'recall', n_jobs=-1)\n",
        "nb1.fit(x, y)\n",
        "scores = cross_val_score(nb1, x, y,scoring = 'recall', cv=5)\n",
        "print(\"Cross validation recall score: {0:.2%} (+/- {1:.2%})\".format(np.mean(scores), np.std(scores)*2))"
      ],
      "execution_count": null,
      "outputs": [
        {
          "output_type": "stream",
          "text": [
            "Cross validation recall score: 95.97% (+/- 3.85%)\n"
          ],
          "name": "stdout"
        }
      ]
    },
    {
      "cell_type": "code",
      "metadata": {
        "id": "fB-Rj6P7Gvs4",
        "trusted": true,
        "colab_type": "code",
        "colab": {},
        "outputId": "3653c951-9cad-4c56-a03b-0c01813231d2"
      },
      "source": [
        "#Random Forest\n",
        "parameters = {'n_estimators':[500], 'criterion':['gini', 'entropy']}\n",
        "rf = GridSearchCV(RandomForestClassifier(random_state=42), parameters, scoring = 'accuracy', n_jobs=-1)\n",
        "rf.fit(x, y)\n",
        "scores = cross_val_score(rf, x, y,scoring=\"accuracy\", cv=5)\n",
        "print(\"Cross validation accuracy score: {0:.2%} (+/- {1:.2%})\".format(np.mean(scores), np.std(scores)*2))"
      ],
      "execution_count": null,
      "outputs": [
        {
          "output_type": "stream",
          "text": [
            "Cross validation accuracy score: 79.32% (+/- 5.26%)\n"
          ],
          "name": "stdout"
        }
      ]
    },
    {
      "cell_type": "code",
      "metadata": {
        "trusted": true,
        "id": "22zvXvYEmz4M",
        "colab_type": "code",
        "colab": {},
        "outputId": "4228911e-e792-4c6b-dc2e-3003d42caa7b"
      },
      "source": [
        "rf1 = GridSearchCV(RandomForestClassifier(random_state=42), parameters, scoring = 'recall', n_jobs=-1)\n",
        "rf1.fit(x, y)\n",
        "scores = cross_val_score(rf1, x, y,scoring=\"recall\", cv=5)\n",
        "print(\"Cross validation recall score: {0:.2%} (+/- {1:.2%})\".format(np.mean(scores), np.std(scores)*2))"
      ],
      "execution_count": null,
      "outputs": [
        {
          "output_type": "stream",
          "text": [
            "Cross validation recall score: 93.60% (+/- 1.93%)\n"
          ],
          "name": "stdout"
        }
      ]
    },
    {
      "cell_type": "markdown",
      "metadata": {
        "id": "nU6VgeKFWvXv",
        "colab_type": "text"
      },
      "source": [
        "Doing all the similar pre processing for test data"
      ]
    },
    {
      "cell_type": "code",
      "metadata": {
        "id": "LakEE5DlMJxI",
        "trusted": true,
        "colab_type": "code",
        "colab": {}
      },
      "source": [
        "test[\"Credit_History\"]=test[\"Credit_History\"].astype(\"object\")"
      ],
      "execution_count": null,
      "outputs": []
    },
    {
      "cell_type": "code",
      "metadata": {
        "id": "LrBB7BbdOcPQ",
        "trusted": true,
        "colab_type": "code",
        "colab": {}
      },
      "source": [
        "#KNN imputation\n",
        "#Assigning levels to the categories\n",
        "lis = []\n",
        "for i in range(0, test.shape[1]):\n",
        "    if(test.iloc[:,i].dtypes == 'object'):\n",
        "        test.iloc[:,i] = pd.Categorical(test.iloc[:,i])\n",
        "        test.iloc[:,i] = test.iloc[:,i].cat.codes \n",
        "        test.iloc[:,i] = test.iloc[:,i].astype('object')\n",
        "        lis.append(test.columns[i])"
      ],
      "execution_count": null,
      "outputs": []
    },
    {
      "cell_type": "code",
      "metadata": {
        "id": "A8eclRvZOmp8",
        "trusted": true,
        "colab_type": "code",
        "colab": {}
      },
      "source": [
        "#replace -1 with NA to impute\n",
        "for i in range(0, test.shape[1]):\n",
        "    test.iloc[:,i] = test.iloc[:,i].replace(-1, np.nan) "
      ],
      "execution_count": null,
      "outputs": []
    },
    {
      "cell_type": "code",
      "metadata": {
        "id": "6gzLzUuBOn4w",
        "trusted": true,
        "colab_type": "code",
        "colab": {
          "base_uri": "https://localhost:8080/",
          "height": 83
        },
        "outputId": "2b944863-8618-43f3-8c7a-e6b6e3633ff5"
      },
      "source": [
        "#Apply KNN imputation algorithm\n",
        "test = pd.DataFrame(KNN(k = 3).fit_transform(test), columns = test.columns)"
      ],
      "execution_count": null,
      "outputs": [
        {
          "output_type": "stream",
          "text": [
            "Imputing row 1/367 with 0 missing, elapsed time: 0.033\n",
            "Imputing row 101/367 with 0 missing, elapsed time: 0.034\n",
            "Imputing row 201/367 with 0 missing, elapsed time: 0.036\n",
            "Imputing row 301/367 with 0 missing, elapsed time: 0.037\n"
          ],
          "name": "stdout"
        }
      ]
    },
    {
      "cell_type": "code",
      "metadata": {
        "id": "_Ojx_WpNOwgw",
        "trusted": true,
        "colab_type": "code",
        "colab": {}
      },
      "source": [
        "#Convert into proper datatypes\n",
        "for i in lis:\n",
        "    test.loc[:,i] = test.loc[:,i].round()\n",
        "    test.loc[:,i] = test.loc[:,i].astype('object')"
      ],
      "execution_count": null,
      "outputs": []
    },
    {
      "cell_type": "code",
      "metadata": {
        "id": "brEuPTBCO4gK",
        "trusted": true,
        "colab_type": "code",
        "colab": {}
      },
      "source": [
        "test[\"ApplicantIncome\"]= (test[\"ApplicantIncome\"] - test[\"ApplicantIncome\"].mean())/test[\"ApplicantIncome\"].std()\n",
        "test[\"CoapplicantIncome\"]= (test[\"CoapplicantIncome\"] - test[\"CoapplicantIncome\"].mean())/test[\"CoapplicantIncome\"].std()\n",
        "test[\"LoanAmount\"]= (test[\"LoanAmount\"] - test[\"LoanAmount\"].mean())/test[\"LoanAmount\"].std()\n",
        "test[\"Loan_Amount_Term\"]= (test[\"Loan_Amount_Term\"] - test[\"Loan_Amount_Term\"].mean())/test[\"Loan_Amount_Term\"].std()"
      ],
      "execution_count": null,
      "outputs": []
    },
    {
      "cell_type": "code",
      "metadata": {
        "id": "gnEnu2x9PC0c",
        "trusted": true,
        "colab_type": "code",
        "colab": {}
      },
      "source": [
        "x=np.array(test)"
      ],
      "execution_count": null,
      "outputs": []
    },
    {
      "cell_type": "code",
      "metadata": {
        "id": "48DkDRVMPRlK",
        "trusted": true,
        "colab_type": "code",
        "colab": {}
      },
      "source": [
        "#Prediction\n",
        "ypred=best_xgb1.best_estimator_.predict(x)"
      ],
      "execution_count": null,
      "outputs": []
    },
    {
      "cell_type": "markdown",
      "metadata": {
        "id": "X0QBNwlZRfqX",
        "colab_type": "text"
      },
      "source": [
        "1: Y\n",
        "0: N"
      ]
    },
    {
      "cell_type": "code",
      "metadata": {
        "id": "e1qMnJd4Q6i-",
        "trusted": true,
        "colab_type": "code",
        "colab": {}
      },
      "source": [
        "test=pd.read_csv(\"test.csv\")\n",
        "test[\"Loan_Status\"]=ypred"
      ],
      "execution_count": null,
      "outputs": []
    },
    {
      "cell_type": "code",
      "metadata": {
        "id": "Fy5U-00wR63V",
        "trusted": true,
        "colab_type": "code",
        "colab": {}
      },
      "source": [
        "dict = {0 : 'N', 1: 'Y'} "
      ],
      "execution_count": null,
      "outputs": []
    },
    {
      "cell_type": "code",
      "metadata": {
        "id": "WnxuC94WSE54",
        "trusted": true,
        "colab_type": "code",
        "colab": {}
      },
      "source": [
        "test['Loan_Status']= test['Loan_Status'].map(dict) "
      ],
      "execution_count": null,
      "outputs": []
    },
    {
      "cell_type": "code",
      "metadata": {
        "id": "u--o7jlxSJ5c",
        "trusted": true,
        "colab_type": "code",
        "colab": {
          "base_uri": "https://localhost:8080/",
          "height": 83
        },
        "outputId": "249a8b3a-2906-4dd5-c275-80d02913d0f2"
      },
      "source": [
        "test.columns"
      ],
      "execution_count": null,
      "outputs": [
        {
          "output_type": "execute_result",
          "data": {
            "text/plain": [
              "Index(['Loan_ID', 'Gender', 'Married', 'Dependents', 'Education',\n",
              "       'Self_Employed', 'ApplicantIncome', 'CoapplicantIncome', 'LoanAmount',\n",
              "       'Loan_Amount_Term', 'Credit_History', 'Property_Area', 'Loan_Status'],\n",
              "      dtype='object')"
            ]
          },
          "metadata": {
            "tags": []
          },
          "execution_count": 38
        }
      ]
    },
    {
      "cell_type": "code",
      "metadata": {
        "id": "47hsfdxwSNij",
        "trusted": true,
        "colab_type": "code",
        "colab": {}
      },
      "source": [
        "test=test.drop(['Gender', 'Married', 'Dependents', 'Education',\n",
        "       'Self_Employed', 'ApplicantIncome', 'CoapplicantIncome', 'LoanAmount',\n",
        "       'Loan_Amount_Term', 'Credit_History', 'Property_Area'],axis=1)"
      ],
      "execution_count": null,
      "outputs": []
    },
    {
      "cell_type": "code",
      "metadata": {
        "id": "sa5Lf_8vSW-s",
        "trusted": true,
        "colab_type": "code",
        "colab": {
          "base_uri": "https://localhost:8080/",
          "height": 197
        },
        "outputId": "1e20baa5-d5a4-4d7e-d2a1-256645d033d9"
      },
      "source": [
        "test.head()"
      ],
      "execution_count": null,
      "outputs": [
        {
          "output_type": "execute_result",
          "data": {
            "text/html": [
              "<div>\n",
              "<style scoped>\n",
              "    .dataframe tbody tr th:only-of-type {\n",
              "        vertical-align: middle;\n",
              "    }\n",
              "\n",
              "    .dataframe tbody tr th {\n",
              "        vertical-align: top;\n",
              "    }\n",
              "\n",
              "    .dataframe thead th {\n",
              "        text-align: right;\n",
              "    }\n",
              "</style>\n",
              "<table border=\"1\" class=\"dataframe\">\n",
              "  <thead>\n",
              "    <tr style=\"text-align: right;\">\n",
              "      <th></th>\n",
              "      <th>Loan_ID</th>\n",
              "      <th>Loan_Status</th>\n",
              "    </tr>\n",
              "  </thead>\n",
              "  <tbody>\n",
              "    <tr>\n",
              "      <th>0</th>\n",
              "      <td>LP001015</td>\n",
              "      <td>Y</td>\n",
              "    </tr>\n",
              "    <tr>\n",
              "      <th>1</th>\n",
              "      <td>LP001022</td>\n",
              "      <td>Y</td>\n",
              "    </tr>\n",
              "    <tr>\n",
              "      <th>2</th>\n",
              "      <td>LP001031</td>\n",
              "      <td>Y</td>\n",
              "    </tr>\n",
              "    <tr>\n",
              "      <th>3</th>\n",
              "      <td>LP001035</td>\n",
              "      <td>Y</td>\n",
              "    </tr>\n",
              "    <tr>\n",
              "      <th>4</th>\n",
              "      <td>LP001051</td>\n",
              "      <td>N</td>\n",
              "    </tr>\n",
              "  </tbody>\n",
              "</table>\n",
              "</div>"
            ],
            "text/plain": [
              "    Loan_ID Loan_Status\n",
              "0  LP001015           Y\n",
              "1  LP001022           Y\n",
              "2  LP001031           Y\n",
              "3  LP001035           Y\n",
              "4  LP001051           N"
            ]
          },
          "metadata": {
            "tags": []
          },
          "execution_count": 40
        }
      ]
    },
    {
      "cell_type": "code",
      "metadata": {
        "id": "e7Xjp40QTf81",
        "trusted": true,
        "colab_type": "code",
        "colab": {}
      },
      "source": [
        "test.to_csv(\"submissionfinal.csv\")"
      ],
      "execution_count": null,
      "outputs": []
    },
    {
      "cell_type": "code",
      "metadata": {
        "id": "IJogn5AxoNHS",
        "colab_type": "code",
        "colab": {}
      },
      "source": [
        ""
      ],
      "execution_count": null,
      "outputs": []
    }
  ]
}