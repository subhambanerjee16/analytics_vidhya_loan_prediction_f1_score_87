{
  "nbformat": 4,
  "nbformat_minor": 0,
  "metadata": {
    "kernelspec": {
      "name": "python3",
      "display_name": "Python 3",
      "language": "python"
    },
    "language_info": {
      "name": "python",
      "version": "3.7.6",
      "mimetype": "text/x-python",
      "codemirror_mode": {
        "name": "ipython",
        "version": 3
      },
      "pygments_lexer": "ipython3",
      "nbconvert_exporter": "python",
      "file_extension": ".py"
    },
    "colab": {
      "name": "loan-prediction-recall-96-2.ipynb",
      "provenance": []
    }
  },
  "cells": [
    {
      "cell_type": "code",
      "metadata": {
        "id": "unRW6QwKyX27",
        "trusted": true,
        "colab_type": "code",
        "colab": {
          "base_uri": "https://localhost:8080/",
          "height": 103
        },
        "outputId": "7385a75f-5ccc-40bc-b6ec-e36996975569"
      },
      "source": [
        "import pandas as pd\n",
        "import numpy as np\n",
        "from sklearn import preprocessing \n",
        "from fancyimpute import KNN   \n",
        "import seaborn as sns\n",
        "from sklearn.ensemble import GradientBoostingClassifier\n",
        "from sklearn.model_selection import GridSearchCV, cross_val_score\n",
        "from sklearn.metrics import cohen_kappa_score, make_scorer\n",
        "from xgboost import XGBClassifier\n",
        "from sklearn.neighbors import KNeighborsClassifier\n",
        "from sklearn.metrics import confusion_matrix\n",
        "from sklearn.naive_bayes import GaussianNB\n",
        "from sklearn.tree import DecisionTreeClassifier\n",
        "from sklearn.ensemble import RandomForestClassifier\n",
        "from sklearn.metrics import recall_score\n",
        "from sklearn.metrics import accuracy_score"
      ],
      "execution_count": null,
      "outputs": [
        {
          "output_type": "stream",
          "text": [
            "/usr/local/lib/python3.6/dist-packages/sklearn/externals/six.py:31: FutureWarning: The module is deprecated in version 0.21 and will be removed in version 0.23 since we've dropped support for Python 2.7. Please rely on the official version of six (https://pypi.org/project/six/).\n",
            "  \"(https://pypi.org/project/six/).\", FutureWarning)\n",
            "/usr/local/lib/python3.6/dist-packages/statsmodels/tools/_testing.py:19: FutureWarning: pandas.util.testing is deprecated. Use the functions in the public API at pandas.testing instead.\n",
            "  import pandas.util.testing as tm\n"
          ],
          "name": "stderr"
        }
      ]
    },
    {
      "cell_type": "code",
      "metadata": {
        "id": "LUbNtiU5m9Gl",
        "colab_type": "code",
        "colab": {
          "resources": {
            "http://localhost:8080/nbextensions/google.colab/files.js": {
              "data": "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",
              "ok": true,
              "headers": [
                [
                  "content-type",
                  "application/javascript"
                ]
              ],
              "status": 200,
              "status_text": ""
            }
          },
          "base_uri": "https://localhost:8080/",
          "height": 160
        },
        "outputId": "4cd974bd-eaa5-4c1f-8714-7f3175b9a016"
      },
      "source": [
        "from google.colab import files\n",
        "files.upload()"
      ],
      "execution_count": null,
      "outputs": [
        {
          "output_type": "display_data",
          "data": {
            "text/html": [
              "\n",
              "     <input type=\"file\" id=\"files-0daa94d3-c6fa-47c4-969b-fa07e047d333\" name=\"files[]\" multiple disabled\n",
              "        style=\"border:none\" />\n",
              "     <output id=\"result-0daa94d3-c6fa-47c4-969b-fa07e047d333\">\n",
              "      Upload widget is only available when the cell has been executed in the\n",
              "      current browser session. Please rerun this cell to enable.\n",
              "      </output>\n",
              "      <script src=\"/nbextensions/google.colab/files.js\"></script> "
            ],
            "text/plain": [
              "<IPython.core.display.HTML object>"
            ]
          },
          "metadata": {
            "tags": []
          }
        },
        {
          "output_type": "stream",
          "text": [
            "Saving test.csv to test.csv\n",
            "Saving train.csv to train.csv\n"
          ],
          "name": "stdout"
        },
        {
          "output_type": "execute_result",
          "data": {
            "text/plain": [
              "{'test.csv': b'Loan_ID,Gender,Married,Dependents,Education,Self_Employed,ApplicantIncome,CoapplicantIncome,LoanAmount,Loan_Amount_Term,Credit_History,Property_Area\\r\\nLP001015,Male,Yes,0,Graduate,No,5720,0,110,360,1,Urban\\r\\nLP001022,Male,Yes,1,Graduate,No,3076,1500,126,360,1,Urban\\r\\nLP001031,Male,Yes,2,Graduate,No,5000,1800,208,360,1,Urban\\r\\nLP001035,Male,Yes,2,Graduate,No,2340,2546,100,360,,Urban\\r\\nLP001051,Male,No,0,Not Graduate,No,3276,0,78,360,1,Urban\\r\\nLP001054,Male,Yes,0,Not Graduate,Yes,2165,3422,152,360,1,Urban\\r\\nLP001055,Female,No,1,Not Graduate,No,2226,0,59,360,1,Semiurban\\r\\nLP001056,Male,Yes,2,Not Graduate,No,3881,0,147,360,0,Rural\\r\\nLP001059,Male,Yes,2,Graduate,,13633,0,280,240,1,Urban\\r\\nLP001067,Male,No,0,Not Graduate,No,2400,2400,123,360,1,Semiurban\\r\\nLP001078,Male,No,0,Not Graduate,No,3091,0,90,360,1,Urban\\r\\nLP001082,Male,Yes,1,Graduate,,2185,1516,162,360,1,Semiurban\\r\\nLP001083,Male,No,3+,Graduate,No,4166,0,40,180,,Urban\\r\\nLP001094,Male,Yes,2,Graduate,,12173,0,166,360,0,Semiurban\\r\\nLP001096,Female,No,0,Graduate,No,4666,0,124,360,1,Semiurban\\r\\nLP001099,Male,No,1,Graduate,No,5667,0,131,360,1,Urban\\r\\nLP001105,Male,Yes,2,Graduate,No,4583,2916,200,360,1,Urban\\r\\nLP001107,Male,Yes,3+,Graduate,No,3786,333,126,360,1,Semiurban\\r\\nLP001108,Male,Yes,0,Graduate,No,9226,7916,300,360,1,Urban\\r\\nLP001115,Male,No,0,Graduate,No,1300,3470,100,180,1,Semiurban\\r\\nLP001121,Male,Yes,1,Not Graduate,No,1888,1620,48,360,1,Urban\\r\\nLP001124,Female,No,3+,Not Graduate,No,2083,0,28,180,1,Urban\\r\\nLP001128,,No,0,Graduate,No,3909,0,101,360,1,Urban\\r\\nLP001135,Female,No,0,Not Graduate,No,3765,0,125,360,1,Urban\\r\\nLP001149,Male,Yes,0,Graduate,No,5400,4380,290,360,1,Urban\\r\\nLP001153,Male,No,0,Graduate,No,0,24000,148,360,0,Rural\\r\\nLP001163,Male,Yes,2,Graduate,No,4363,1250,140,360,,Urban\\r\\nLP001169,Male,Yes,0,Graduate,No,7500,3750,275,360,1,Urban\\r\\nLP001174,Male,Yes,0,Graduate,No,3772,833,57,360,,Semiurban\\r\\nLP001176,Male,No,0,Graduate,No,2942,2382,125,180,1,Urban\\r\\nLP001177,Female,No,0,Not Graduate,No,2478,0,75,360,1,Semiurban\\r\\nLP001183,Male,Yes,2,Graduate,No,6250,820,192,360,1,Urban\\r\\nLP001185,Male,No,0,Graduate,No,3268,1683,152,360,1,Semiurban\\r\\nLP001187,Male,Yes,0,Graduate,No,2783,2708,158,360,1,Urban\\r\\nLP001190,Male,Yes,0,Graduate,No,2740,1541,101,360,1,Urban\\r\\nLP001203,Male,No,0,Graduate,No,3150,0,176,360,0,Semiurban\\r\\nLP001208,Male,Yes,2,Graduate,,7350,4029,185,180,1,Urban\\r\\nLP001210,Male,Yes,0,Graduate,Yes,2267,2792,90,360,1,Urban\\r\\nLP001211,Male,No,0,Graduate,Yes,5833,0,116,360,1,Urban\\r\\nLP001219,Male,No,0,Graduate,No,3643,1963,138,360,1,Urban\\r\\nLP001220,Male,Yes,0,Graduate,No,5629,818,100,360,1,Urban\\r\\nLP001221,Female,No,0,Graduate,No,3644,0,110,360,1,Urban\\r\\nLP001226,Male,Yes,0,Not Graduate,No,1750,2024,90,360,1,Semiurban\\r\\nLP001230,Male,No,0,Graduate,No,6500,2600,200,360,1,Semiurban\\r\\nLP001231,Female,No,0,Graduate,No,3666,0,84,360,1,Urban\\r\\nLP001232,Male,Yes,0,Graduate,No,4260,3900,185,,,Urban\\r\\nLP001237,Male,Yes,,Not Graduate,No,4163,1475,162,360,1,Urban\\r\\nLP001242,Male,No,0,Not Graduate,No,2356,1902,108,360,1,Semiurban\\r\\nLP001268,Male,No,0,Graduate,No,6792,3338,187,,1,Urban\\r\\nLP001270,Male,Yes,3+,Not Graduate,Yes,8000,250,187,360,1,Semiurban\\r\\nLP001284,Male,Yes,1,Graduate,No,2419,1707,124,360,1,Urban\\r\\nLP001287,,Yes,3+,Not Graduate,No,3500,833,120,360,1,Semiurban\\r\\nLP001291,Male,Yes,1,Graduate,No,3500,3077,160,360,1,Semiurban\\r\\nLP001298,Male,Yes,2,Graduate,No,4116,1000,30,180,1,Urban\\r\\nLP001312,Male,Yes,0,Not Graduate,Yes,5293,0,92,360,1,Urban\\r\\nLP001313,Male,No,0,Graduate,No,2750,0,130,360,0,Urban\\r\\nLP001317,Female,No,0,Not Graduate,No,4402,0,130,360,1,Rural\\r\\nLP001321,Male,Yes,2,Graduate,No,3613,3539,134,180,1,Semiurban\\r\\nLP001323,Female,Yes,2,Graduate,No,2779,3664,176,360,0,Semiurban\\r\\nLP001324,Male,Yes,3+,Graduate,No,4720,0,90,180,1,Semiurban\\r\\nLP001332,Male,Yes,0,Not Graduate,No,2415,1721,110,360,1,Semiurban\\r\\nLP001335,Male,Yes,0,Graduate,Yes,7016,292,125,360,1,Urban\\r\\nLP001338,Female,No,2,Graduate,No,4968,0,189,360,1,Semiurban\\r\\nLP001347,Female,No,0,Graduate,No,2101,1500,108,360,0,Rural\\r\\nLP001348,Male,Yes,3+,Not Graduate,No,4490,0,125,360,1,Urban\\r\\nLP001351,Male,Yes,0,Graduate,No,2917,3583,138,360,1,Semiurban\\r\\nLP001352,Male,Yes,0,Not Graduate,No,4700,0,135,360,0,Semiurban\\r\\nLP001358,Male,Yes,0,Graduate,No,3445,0,130,360,0,Semiurban\\r\\nLP001359,Male,Yes,0,Graduate,No,7666,0,187,360,1,Semiurban\\r\\nLP001361,Male,Yes,0,Graduate,No,2458,5105,188,360,0,Rural\\r\\nLP001366,Female,No,,Graduate,No,3250,0,95,360,1,Semiurban\\r\\nLP001368,Male,No,0,Graduate,No,4463,0,65,360,1,Semiurban\\r\\nLP001375,Male,Yes,1,Graduate,,4083,1775,139,60,1,Urban\\r\\nLP001380,Male,Yes,0,Graduate,Yes,3900,2094,232,360,1,Rural\\r\\nLP001386,Male,Yes,0,Not Graduate,No,4750,3583,144,360,1,Semiurban\\r\\nLP001400,Male,No,0,Graduate,No,3583,3435,155,360,1,Urban\\r\\nLP001407,Male,Yes,0,Graduate,No,3189,2367,186,360,1,Urban\\r\\nLP001413,Male,No,0,Graduate,Yes,6356,0,50,360,1,Rural\\r\\nLP001415,Male,Yes,1,Graduate,No,3413,4053,,360,1,Semiurban\\r\\nLP001419,Female,Yes,0,Graduate,No,7950,0,185,360,1,Urban\\r\\nLP001420,Male,Yes,3+,Graduate,No,3829,1103,163,360,0,Urban\\r\\nLP001428,Male,Yes,3+,Graduate,No,72529,0,360,360,1,Urban\\r\\nLP001445,Male,Yes,2,Not Graduate,No,4136,0,149,480,0,Rural\\r\\nLP001446,Male,Yes,0,Graduate,No,8449,0,257,360,1,Rural\\r\\nLP001450,Male,Yes,0,Graduate,No,4456,0,131,180,0,Semiurban\\r\\nLP001452,Male,Yes,2,Graduate,No,4635,8000,102,180,1,Rural\\r\\nLP001455,Male,Yes,0,Graduate,No,3571,1917,135,360,1,Urban\\r\\nLP001466,Male,No,0,Graduate,No,3066,0,95,360,1,Semiurban\\r\\nLP001471,Male,No,2,Not Graduate,No,3235,2015,77,360,1,Semiurban\\r\\nLP001472,Female,No,0,Graduate,,5058,0,200,360,1,Rural\\r\\nLP001475,Male,Yes,0,Graduate,Yes,3188,2286,130,360,,Rural\\r\\nLP001483,Male,Yes,3+,Graduate,No,13518,0,390,360,1,Rural\\r\\nLP001486,Male,Yes,1,Graduate,No,4364,2500,185,360,1,Semiurban\\r\\nLP001490,Male,Yes,2,Not Graduate,No,4766,1646,100,360,1,Semiurban\\r\\nLP001496,Male,Yes,1,Graduate,No,4609,2333,123,360,0,Semiurban\\r\\nLP001499,Female,Yes,3+,Graduate,No,6260,0,110,360,1,Semiurban\\r\\nLP001500,Male,Yes,1,Graduate,No,3333,4200,256,360,1,Urban\\r\\nLP001501,Male,Yes,0,Graduate,No,3500,3250,140,360,1,Semiurban\\r\\nLP001517,Male,Yes,3+,Graduate,No,9719,0,61,360,1,Urban\\r\\nLP001527,Male,Yes,3+,Graduate,No,6835,0,188,360,,Semiurban\\r\\nLP001534,Male,No,0,Graduate,No,4452,0,131,360,1,Rural\\r\\nLP001542,Female,Yes,0,Graduate,No,2262,0,,480,0,Semiurban\\r\\nLP001547,Male,Yes,1,Graduate,No,3901,0,116,360,1,Urban\\r\\nLP001548,Male,Yes,2,Not Graduate,No,2687,0,50,180,1,Rural\\r\\nLP001558,Male,No,0,Graduate,No,2243,2233,107,360,,Semiurban\\r\\nLP001561,Female,Yes,0,Graduate,No,3417,1287,200,360,1,Semiurban\\r\\nLP001563,,No,0,Graduate,No,1596,1760,119,360,0,Urban\\r\\nLP001567,Male,Yes,3+,Graduate,No,4513,0,120,360,1,Rural\\r\\nLP001568,Male,Yes,0,Graduate,No,4500,0,140,360,1,Semiurban\\r\\nLP001573,Male,Yes,0,Not Graduate,No,4523,1350,165,360,1,Urban\\r\\nLP001584,Female,No,0,Graduate,Yes,4742,0,108,360,1,Semiurban\\r\\nLP001587,Male,Yes,,Graduate,No,4082,0,93,360,1,Semiurban\\r\\nLP001589,Female,No,0,Graduate,No,3417,0,102,360,1,Urban\\r\\nLP001591,Female,Yes,2,Graduate,No,2922,3396,122,360,1,Semiurban\\r\\nLP001599,Male,Yes,0,Graduate,No,4167,4754,160,360,1,Rural\\r\\nLP001601,Male,No,3+,Graduate,No,4243,4123,157,360,,Semiurban\\r\\nLP001607,Female,No,0,Not Graduate,No,0,1760,180,360,1,Semiurban\\r\\nLP001611,Male,Yes,1,Graduate,No,1516,2900,80,,0,Rural\\r\\nLP001613,Female,No,0,Graduate,No,1762,2666,104,360,0,Urban\\r\\nLP001622,Male,Yes,2,Graduate,No,724,3510,213,360,0,Rural\\r\\nLP001627,Male,No,0,Graduate,No,3125,0,65,360,1,Urban\\r\\nLP001650,Male,Yes,0,Graduate,No,2333,3803,146,360,1,Rural\\r\\nLP001651,Male,Yes,3+,Graduate,No,3350,1560,135,360,1,Urban\\r\\nLP001652,Male,No,0,Graduate,No,2500,6414,187,360,0,Rural\\r\\nLP001655,Female,No,0,Graduate,No,12500,0,300,360,0,Urban\\r\\nLP001660,Male,No,0,Graduate,No,4667,0,120,360,1,Semiurban\\r\\nLP001662,Male,No,0,Graduate,No,6500,0,71,360,0,Urban\\r\\nLP001663,Male,Yes,2,Graduate,No,7500,0,225,360,1,Urban\\r\\nLP001667,Male,No,0,Graduate,No,3073,0,70,180,1,Urban\\r\\nLP001695,Male,Yes,1,Not Graduate,No,3321,2088,70,,1,Semiurban\\r\\nLP001703,Male,Yes,0,Graduate,No,3333,1270,124,360,1,Urban\\r\\nLP001718,Male,No,0,Graduate,No,3391,0,132,360,1,Rural\\r\\nLP001728,Male,Yes,1,Graduate,Yes,3343,1517,105,360,1,Rural\\r\\nLP001735,Female,No,1,Graduate,No,3620,0,90,360,1,Urban\\r\\nLP001737,Male,No,0,Graduate,No,4000,0,83,84,1,Urban\\r\\nLP001739,Male,Yes,0,Graduate,No,4258,0,125,360,1,Urban\\r\\nLP001742,Male,Yes,2,Graduate,No,4500,0,147,360,1,Rural\\r\\nLP001757,Male,Yes,1,Graduate,No,2014,2925,120,360,1,Rural\\r\\nLP001769,,No,,Graduate,No,3333,1250,110,360,1,Semiurban\\r\\nLP001771,Female,No,3+,Graduate,No,4083,0,103,360,,Semiurban\\r\\nLP001785,Male,No,0,Graduate,No,4727,0,150,360,0,Rural\\r\\nLP001787,Male,Yes,3+,Graduate,No,3089,2999,100,240,1,Rural\\r\\nLP001789,Male,Yes,3+,Not Graduate,,6794,528,139,360,0,Urban\\r\\nLP001791,Male,Yes,0,Graduate,Yes,32000,0,550,360,,Semiurban\\r\\nLP001794,Male,Yes,2,Graduate,Yes,10890,0,260,12,1,Rural\\r\\nLP001797,Female,No,0,Graduate,No,12941,0,150,300,1,Urban\\r\\nLP001815,Male,No,0,Not Graduate,No,3276,0,90,360,1,Semiurban\\r\\nLP001817,Male,No,0,Not Graduate,Yes,8703,0,199,360,0,Rural\\r\\nLP001818,Male,Yes,1,Graduate,No,4742,717,139,360,1,Semiurban\\r\\nLP001822,Male,No,0,Graduate,No,5900,0,150,360,1,Urban\\r\\nLP001827,Male,No,0,Graduate,No,3071,4309,180,360,1,Urban\\r\\nLP001831,Male,Yes,0,Graduate,No,2783,1456,113,360,1,Urban\\r\\nLP001842,Male,No,0,Graduate,No,5000,0,148,360,1,Rural\\r\\nLP001853,Male,Yes,1,Not Graduate,No,2463,2360,117,360,0,Urban\\r\\nLP001855,Male,Yes,2,Graduate,No,4855,0,72,360,1,Rural\\r\\nLP001857,Male,No,0,Not Graduate,Yes,1599,2474,125,300,1,Semiurban\\r\\nLP001862,Male,Yes,2,Graduate,Yes,4246,4246,214,360,1,Urban\\r\\nLP001867,Male,Yes,0,Graduate,No,4333,2291,133,350,1,Rural\\r\\nLP001878,Male,No,1,Graduate,No,5823,2529,187,360,1,Semiurban\\r\\nLP001881,Male,Yes,0,Not Graduate,No,7895,0,143,360,1,Rural\\r\\nLP001886,Male,No,0,Graduate,No,4150,4256,209,360,1,Rural\\r\\nLP001906,Male,No,0,Graduate,,2964,0,84,360,0,Semiurban\\r\\nLP001909,Male,No,0,Graduate,No,5583,0,116,360,1,Urban\\r\\nLP001911,Female,No,0,Graduate,No,2708,0,65,360,1,Rural\\r\\nLP001921,Male,No,1,Graduate,No,3180,2370,80,240,,Rural\\r\\nLP001923,Male,No,0,Not Graduate,No,2268,0,170,360,0,Semiurban\\r\\nLP001933,Male,No,2,Not Graduate,No,1141,2017,120,360,0,Urban\\r\\nLP001943,Male,Yes,0,Graduate,No,3042,3167,135,360,1,Urban\\r\\nLP001950,Female,Yes,3+,Graduate,,1750,2935,94,360,0,Semiurban\\r\\nLP001959,Female,Yes,1,Graduate,No,3564,0,79,360,1,Rural\\r\\nLP001961,Female,No,0,Graduate,No,3958,0,110,360,1,Rural\\r\\nLP001973,Male,Yes,2,Not Graduate,No,4483,0,130,360,1,Rural\\r\\nLP001975,Male,Yes,0,Graduate,No,5225,0,143,360,1,Rural\\r\\nLP001979,Male,No,0,Graduate,No,3017,2845,159,180,0,Urban\\r\\nLP001995,Male,Yes,0,Not Graduate,No,2431,1820,110,360,0,Rural\\r\\nLP001999,Male,Yes,2,Graduate,,4912,4614,160,360,1,Rural\\r\\nLP002007,Male,Yes,2,Not Graduate,No,2500,3333,131,360,1,Urban\\r\\nLP002009,Female,No,0,Graduate,No,2918,0,65,360,,Rural\\r\\nLP002016,Male,Yes,2,Graduate,No,5128,0,143,360,1,Rural\\r\\nLP002017,Male,Yes,3+,Graduate,No,15312,0,187,360,,Urban\\r\\nLP002018,Male,Yes,2,Graduate,No,3958,2632,160,360,1,Semiurban\\r\\nLP002027,Male,Yes,0,Graduate,No,4334,2945,165,360,1,Semiurban\\r\\nLP002028,Male,Yes,2,Graduate,No,4358,0,110,360,1,Urban\\r\\nLP002042,Female,Yes,1,Graduate,No,4000,3917,173,360,1,Rural\\r\\nLP002045,Male,Yes,3+,Graduate,No,10166,750,150,,1,Urban\\r\\nLP002046,Male,Yes,0,Not Graduate,No,4483,0,135,360,,Semiurban\\r\\nLP002047,Male,Yes,2,Not Graduate,No,4521,1184,150,360,1,Semiurban\\r\\nLP002056,Male,Yes,2,Graduate,No,9167,0,235,360,1,Semiurban\\r\\nLP002057,Male,Yes,0,Not Graduate,No,13083,0,,360,1,Rural\\r\\nLP002059,Male,Yes,2,Graduate,No,7874,3967,336,360,1,Rural\\r\\nLP002062,Female,Yes,1,Graduate,No,4333,0,132,84,1,Rural\\r\\nLP002064,Male,No,0,Graduate,No,4083,0,96,360,1,Urban\\r\\nLP002069,Male,Yes,2,Not Graduate,,3785,2912,180,360,0,Rural\\r\\nLP002070,Male,Yes,3+,Not Graduate,No,2654,1998,128,360,0,Rural\\r\\nLP002077,Male,Yes,1,Graduate,No,10000,2690,412,360,1,Semiurban\\r\\nLP002083,Male,No,0,Graduate,Yes,5833,0,116,360,1,Urban\\r\\nLP002090,Male,Yes,1,Graduate,No,4796,0,114,360,0,Semiurban\\r\\nLP002096,Male,Yes,0,Not Graduate,No,2000,1600,115,360,1,Rural\\r\\nLP002099,Male,Yes,2,Graduate,No,2540,700,104,360,0,Urban\\r\\nLP002102,Male,Yes,0,Graduate,Yes,1900,1442,88,360,1,Rural\\r\\nLP002105,Male,Yes,0,Graduate,Yes,8706,0,108,480,1,Rural\\r\\nLP002107,Male,Yes,3+,Not Graduate,No,2855,542,90,360,1,Urban\\r\\nLP002111,Male,Yes,,Graduate,No,3016,1300,100,360,,Urban\\r\\nLP002117,Female,Yes,0,Graduate,No,3159,2374,108,360,1,Semiurban\\r\\nLP002118,Female,No,0,Graduate,No,1937,1152,78,360,1,Semiurban\\r\\nLP002123,Male,Yes,0,Graduate,No,2613,2417,123,360,1,Semiurban\\r\\nLP002125,Male,Yes,1,Graduate,No,4960,2600,187,360,1,Semiurban\\r\\nLP002148,Male,Yes,1,Graduate,No,3074,1083,146,360,1,Semiurban\\r\\nLP002152,Female,No,0,Graduate,No,4213,0,80,360,1,Urban\\r\\nLP002165,,No,1,Not Graduate,No,2038,4027,100,360,1,Rural\\r\\nLP002167,Female,No,0,Graduate,No,2362,0,55,360,1,Urban\\r\\nLP002168,Male,No,0,Graduate,No,5333,2400,200,360,0,Rural\\r\\nLP002172,Male,Yes,3+,Graduate,Yes,5384,0,150,360,1,Semiurban\\r\\nLP002176,Male,No,0,Graduate,No,5708,0,150,360,1,Rural\\r\\nLP002183,Male,Yes,0,Not Graduate,No,3754,3719,118,,1,Rural\\r\\nLP002184,Male,Yes,0,Not Graduate,No,2914,2130,150,300,1,Urban\\r\\nLP002186,Male,Yes,0,Not Graduate,No,2747,2458,118,36,1,Semiurban\\r\\nLP002192,Male,Yes,0,Graduate,No,7830,2183,212,360,1,Rural\\r\\nLP002195,Male,Yes,1,Graduate,Yes,3507,3148,212,360,1,Rural\\r\\nLP002208,Male,Yes,1,Graduate,No,3747,2139,125,360,1,Urban\\r\\nLP002212,Male,Yes,0,Graduate,No,2166,2166,108,360,,Urban\\r\\nLP002240,Male,Yes,0,Not Graduate,No,3500,2168,149,360,1,Rural\\r\\nLP002245,Male,Yes,2,Not Graduate,No,2896,0,80,480,1,Urban\\r\\nLP002253,Female,No,1,Graduate,No,5062,0,152,300,1,Rural\\r\\nLP002256,Female,No,2,Graduate,Yes,5184,0,187,360,0,Semiurban\\r\\nLP002257,Female,No,0,Graduate,No,2545,0,74,360,1,Urban\\r\\nLP002264,Male,Yes,0,Graduate,No,2553,1768,102,360,1,Urban\\r\\nLP002270,Male,Yes,1,Graduate,No,3436,3809,100,360,1,Rural\\r\\nLP002279,Male,No,0,Graduate,No,2412,2755,130,360,1,Rural\\r\\nLP002286,Male,Yes,3+,Not Graduate,No,5180,0,125,360,0,Urban\\r\\nLP002294,Male,No,0,Graduate,No,14911,14507,130,360,1,Semiurban\\r\\nLP002298,,No,0,Graduate,Yes,2860,2988,138,360,1,Urban\\r\\nLP002306,Male,Yes,0,Graduate,No,1173,1594,28,180,1,Rural\\r\\nLP002310,Female,No,1,Graduate,No,7600,0,92,360,1,Semiurban\\r\\nLP002311,Female,Yes,0,Graduate,No,2157,1788,104,360,1,Urban\\r\\nLP002316,Male,No,0,Graduate,No,2231,2774,176,360,0,Urban\\r\\nLP002321,Female,No,0,Graduate,No,2274,5211,117,360,0,Semiurban\\r\\nLP002325,Male,Yes,2,Not Graduate,No,6166,13983,102,360,1,Rural\\r\\nLP002326,Male,Yes,2,Not Graduate,No,2513,1110,107,360,1,Semiurban\\r\\nLP002329,Male,No,0,Graduate,No,4333,0,66,480,1,Urban\\r\\nLP002333,Male,No,0,Not Graduate,No,3844,0,105,360,1,Urban\\r\\nLP002339,Male,Yes,0,Graduate,No,3887,1517,105,360,0,Semiurban\\r\\nLP002344,Male,Yes,0,Graduate,No,3510,828,105,360,1,Semiurban\\r\\nLP002346,Male,Yes,0,Graduate,,2539,1704,125,360,0,Rural\\r\\nLP002354,Female,No,0,Not Graduate,No,2107,0,64,360,1,Semiurban\\r\\nLP002355,,Yes,0,Graduate,No,3186,3145,150,180,0,Semiurban\\r\\nLP002358,Male,Yes,2,Graduate,Yes,5000,2166,150,360,1,Urban\\r\\nLP002360,Male,Yes,,Graduate,No,10000,0,,360,1,Urban\\r\\nLP002375,Male,Yes,0,Not Graduate,Yes,3943,0,64,360,1,Semiurban\\r\\nLP002376,Male,No,0,Graduate,No,2925,0,40,180,1,Rural\\r\\nLP002383,Male,Yes,3+,Graduate,No,3242,437,142,480,0,Urban\\r\\nLP002385,Male,Yes,,Graduate,No,3863,0,70,300,1,Semiurban\\r\\nLP002389,Female,No,1,Graduate,No,4028,0,131,360,1,Semiurban\\r\\nLP002394,Male,Yes,2,Graduate,No,4010,1025,120,360,1,Urban\\r\\nLP002397,Female,Yes,1,Graduate,No,3719,1585,114,360,1,Urban\\r\\nLP002399,Male,No,0,Graduate,,2858,0,123,360,0,Rural\\r\\nLP002400,Female,Yes,0,Graduate,No,3833,0,92,360,1,Rural\\r\\nLP002402,Male,Yes,0,Graduate,No,3333,4288,160,360,1,Urban\\r\\nLP002412,Male,Yes,0,Graduate,No,3007,3725,151,360,1,Rural\\r\\nLP002415,Female,No,1,Graduate,,1850,4583,81,360,,Rural\\r\\nLP002417,Male,Yes,3+,Not Graduate,No,2792,2619,171,360,1,Semiurban\\r\\nLP002420,Male,Yes,0,Graduate,No,2982,1550,110,360,1,Semiurban\\r\\nLP002425,Male,No,0,Graduate,No,3417,738,100,360,,Rural\\r\\nLP002433,Male,Yes,1,Graduate,No,18840,0,234,360,1,Rural\\r\\nLP002440,Male,Yes,2,Graduate,No,2995,1120,184,360,1,Rural\\r\\nLP002441,Male,No,,Graduate,No,3579,3308,138,360,,Semiurban\\r\\nLP002442,Female,Yes,1,Not Graduate,No,3835,1400,112,480,0,Urban\\r\\nLP002445,Female,No,1,Not Graduate,No,3854,3575,117,360,1,Rural\\r\\nLP002450,Male,Yes,2,Graduate,No,5833,750,49,360,0,Rural\\r\\nLP002471,Male,No,0,Graduate,No,3508,0,99,360,1,Rural\\r\\nLP002476,Female,Yes,3+,Not Graduate,No,1635,2444,99,360,1,Urban\\r\\nLP002482,Female,No,0,Graduate,Yes,3333,3916,212,360,1,Rural\\r\\nLP002485,Male,No,1,Graduate,No,24797,0,240,360,1,Semiurban\\r\\nLP002495,Male,Yes,2,Graduate,No,5667,440,130,360,0,Semiurban\\r\\nLP002496,Female,No,0,Graduate,No,3500,0,94,360,0,Semiurban\\r\\nLP002523,Male,Yes,3+,Graduate,No,2773,1497,108,360,1,Semiurban\\r\\nLP002542,Male,Yes,0,Graduate,,6500,0,144,360,1,Urban\\r\\nLP002550,Female,No,0,Graduate,No,5769,0,110,180,1,Semiurban\\r\\nLP002551,Male,Yes,3+,Not Graduate,,3634,910,176,360,0,Semiurban\\r\\nLP002553,,No,0,Graduate,No,29167,0,185,360,1,Semiurban\\r\\nLP002554,Male,No,0,Graduate,No,2166,2057,122,360,1,Semiurban\\r\\nLP002561,Male,Yes,0,Graduate,No,5000,0,126,360,1,Rural\\r\\nLP002566,Female,No,0,Graduate,No,5530,0,135,360,,Urban\\r\\nLP002568,Male,No,0,Not Graduate,No,9000,0,122,360,1,Rural\\r\\nLP002570,Female,Yes,2,Graduate,No,10000,11666,460,360,1,Urban\\r\\nLP002572,Male,Yes,1,Graduate,,8750,0,297,360,1,Urban\\r\\nLP002581,Male,Yes,0,Not Graduate,No,2157,2730,140,360,,Rural\\r\\nLP002584,Male,No,0,Graduate,,1972,4347,106,360,1,Rural\\r\\nLP002592,Male,No,0,Graduate,No,4983,0,141,360,1,Urban\\r\\nLP002593,Male,Yes,1,Graduate,No,8333,4000,,360,1,Urban\\r\\nLP002599,Male,Yes,0,Graduate,No,3667,2000,170,360,1,Semiurban\\r\\nLP002604,Male,Yes,2,Graduate,No,3166,2833,145,360,1,Urban\\r\\nLP002605,Male,No,0,Not Graduate,No,3271,0,90,360,1,Rural\\r\\nLP002609,Female,Yes,0,Graduate,No,2241,2000,88,360,0,Urban\\r\\nLP002610,Male,Yes,1,Not Graduate,,1792,2565,128,360,1,Urban\\r\\nLP002612,Female,Yes,0,Graduate,No,2666,0,84,480,1,Semiurban\\r\\nLP002614,,No,0,Graduate,No,6478,0,108,360,1,Semiurban\\r\\nLP002630,Male,No,0,Not Graduate,,3808,0,83,360,1,Rural\\r\\nLP002635,Female,Yes,2,Not Graduate,No,3729,0,117,360,1,Semiurban\\r\\nLP002639,Male,Yes,2,Graduate,No,4120,0,128,360,1,Rural\\r\\nLP002644,Male,Yes,1,Graduate,Yes,7500,0,75,360,1,Urban\\r\\nLP002651,Male,Yes,1,Graduate,,6300,0,125,360,0,Urban\\r\\nLP002654,Female,No,,Graduate,Yes,14987,0,177,360,1,Rural\\r\\nLP002657,,Yes,1,Not Graduate,Yes,570,2125,68,360,1,Rural\\r\\nLP002711,Male,Yes,0,Graduate,No,2600,700,96,360,1,Semiurban\\r\\nLP002712,Male,No,2,Not Graduate,No,2733,1083,180,360,,Semiurban\\r\\nLP002721,Male,Yes,2,Graduate,Yes,7500,0,183,360,1,Rural\\r\\nLP002735,Male,Yes,2,Not Graduate,No,3859,0,121,360,1,Rural\\r\\nLP002744,Male,Yes,1,Graduate,No,6825,0,162,360,1,Rural\\r\\nLP002745,Male,Yes,0,Graduate,No,3708,4700,132,360,1,Semiurban\\r\\nLP002746,Male,No,0,Graduate,No,5314,0,147,360,1,Urban\\r\\nLP002747,Female,No,3+,Graduate,No,2366,5272,153,360,0,Rural\\r\\nLP002754,Male,No,,Graduate,No,2066,2108,104,84,1,Urban\\r\\nLP002759,Male,Yes,2,Graduate,No,5000,0,149,360,1,Rural\\r\\nLP002760,Female,No,0,Graduate,No,3767,0,134,300,1,Urban\\r\\nLP002766,Female,Yes,0,Graduate,No,7859,879,165,180,1,Semiurban\\r\\nLP002769,Female,Yes,0,Graduate,No,4283,0,120,360,1,Rural\\r\\nLP002774,Male,Yes,0,Not Graduate,No,1700,2900,67,360,0,Urban\\r\\nLP002775,,No,0,Not Graduate,No,4768,0,125,360,1,Rural\\r\\nLP002781,Male,No,0,Graduate,No,3083,2738,120,360,1,Urban\\r\\nLP002782,Male,Yes,1,Graduate,No,2667,1542,148,360,1,Rural\\r\\nLP002786,Female,Yes,0,Not Graduate,No,1647,1762,181,360,1,Urban\\r\\nLP002790,Male,Yes,3+,Graduate,No,3400,0,80,120,1,Urban\\r\\nLP002791,Male,No,1,Graduate,,16000,5000,40,360,1,Semiurban\\r\\nLP002793,Male,Yes,0,Graduate,No,5333,0,90,360,1,Rural\\r\\nLP002802,Male,No,0,Graduate,No,2875,2416,95,6,0,Semiurban\\r\\nLP002803,Male,Yes,1,Not Graduate,,2600,618,122,360,1,Semiurban\\r\\nLP002805,Male,Yes,2,Graduate,No,5041,700,150,360,1,Urban\\r\\nLP002806,Male,Yes,3+,Graduate,Yes,6958,1411,150,360,1,Rural\\r\\nLP002816,Male,Yes,1,Graduate,No,3500,1658,104,360,,Semiurban\\r\\nLP002823,Male,Yes,0,Graduate,No,5509,0,143,360,1,Rural\\r\\nLP002825,Male,Yes,3+,Graduate,No,9699,0,300,360,1,Urban\\r\\nLP002826,Female,Yes,1,Not Graduate,No,3621,2717,171,360,1,Urban\\r\\nLP002843,Female,Yes,0,Graduate,No,4709,0,113,360,1,Semiurban\\r\\nLP002849,Male,Yes,0,Graduate,No,1516,1951,35,360,1,Semiurban\\r\\nLP002850,Male,No,2,Graduate,No,2400,0,46,360,1,Urban\\r\\nLP002853,Female,No,0,Not Graduate,No,3015,2000,145,360,,Urban\\r\\nLP002856,Male,Yes,0,Graduate,No,2292,1558,119,360,1,Urban\\r\\nLP002857,Male,Yes,1,Graduate,Yes,2360,3355,87,240,1,Rural\\r\\nLP002858,Female,No,0,Graduate,No,4333,2333,162,360,0,Rural\\r\\nLP002860,Male,Yes,0,Graduate,Yes,2623,4831,122,180,1,Semiurban\\r\\nLP002867,Male,No,0,Graduate,Yes,3972,4275,187,360,1,Rural\\r\\nLP002869,Male,Yes,3+,Not Graduate,No,3522,0,81,180,1,Rural\\r\\nLP002870,Male,Yes,1,Graduate,No,4700,0,80,360,1,Urban\\r\\nLP002876,Male,No,0,Graduate,No,6858,0,176,360,1,Rural\\r\\nLP002878,Male,Yes,3+,Graduate,No,8334,0,260,360,1,Urban\\r\\nLP002879,Male,Yes,0,Graduate,No,3391,1966,133,360,0,Rural\\r\\nLP002885,Male,No,0,Not Graduate,No,2868,0,70,360,1,Urban\\r\\nLP002890,Male,Yes,2,Not Graduate,No,3418,1380,135,360,1,Urban\\r\\nLP002891,Male,Yes,0,Graduate,Yes,2500,296,137,300,1,Rural\\r\\nLP002899,Male,Yes,2,Graduate,No,8667,0,254,360,1,Rural\\r\\nLP002901,Male,No,0,Graduate,No,2283,15000,106,360,,Rural\\r\\nLP002907,Male,Yes,0,Graduate,No,5817,910,109,360,1,Urban\\r\\nLP002920,Male,Yes,0,Graduate,No,5119,3769,120,360,1,Rural\\r\\nLP002921,Male,Yes,3+,Not Graduate,No,5316,187,158,180,0,Semiurban\\r\\nLP002932,Male,Yes,3+,Graduate,No,7603,1213,197,360,1,Urban\\r\\nLP002935,Male,Yes,1,Graduate,No,3791,1936,85,360,1,Urban\\r\\nLP002952,Male,No,0,Graduate,No,2500,0,60,360,1,Urban\\r\\nLP002954,Male,Yes,2,Not Graduate,No,3132,0,76,360,,Rural\\r\\nLP002962,Male,No,0,Graduate,No,4000,2667,152,360,1,Semiurban\\r\\nLP002965,Female,Yes,0,Graduate,No,8550,4255,96,360,,Urban\\r\\nLP002969,Male,Yes,1,Graduate,No,2269,2167,99,360,1,Semiurban\\r\\nLP002971,Male,Yes,3+,Not Graduate,Yes,4009,1777,113,360,1,Urban\\r\\nLP002975,Male,Yes,0,Graduate,No,4158,709,115,360,1,Urban\\r\\nLP002980,Male,No,0,Graduate,No,3250,1993,126,360,,Semiurban\\r\\nLP002986,Male,Yes,0,Graduate,No,5000,2393,158,360,1,Rural\\r\\nLP002989,Male,No,0,Graduate,Yes,9200,0,98,180,1,Rural',\n",
              " 'train.csv': b'Loan_ID,Gender,Married,Dependents,Education,Self_Employed,ApplicantIncome,CoapplicantIncome,LoanAmount,Loan_Amount_Term,Credit_History,Property_Area,Loan_Status\\r\\nLP001002,Male,No,0,Graduate,No,5849,0,,360,1,Urban,Y\\r\\nLP001003,Male,Yes,1,Graduate,No,4583,1508,128,360,1,Rural,N\\r\\nLP001005,Male,Yes,0,Graduate,Yes,3000,0,66,360,1,Urban,Y\\r\\nLP001006,Male,Yes,0,Not Graduate,No,2583,2358,120,360,1,Urban,Y\\r\\nLP001008,Male,No,0,Graduate,No,6000,0,141,360,1,Urban,Y\\r\\nLP001011,Male,Yes,2,Graduate,Yes,5417,4196,267,360,1,Urban,Y\\r\\nLP001013,Male,Yes,0,Not Graduate,No,2333,1516,95,360,1,Urban,Y\\r\\nLP001014,Male,Yes,3+,Graduate,No,3036,2504,158,360,0,Semiurban,N\\r\\nLP001018,Male,Yes,2,Graduate,No,4006,1526,168,360,1,Urban,Y\\r\\nLP001020,Male,Yes,1,Graduate,No,12841,10968,349,360,1,Semiurban,N\\r\\nLP001024,Male,Yes,2,Graduate,No,3200,700,70,360,1,Urban,Y\\r\\nLP001027,Male,Yes,2,Graduate,,2500,1840,109,360,1,Urban,Y\\r\\nLP001028,Male,Yes,2,Graduate,No,3073,8106,200,360,1,Urban,Y\\r\\nLP001029,Male,No,0,Graduate,No,1853,2840,114,360,1,Rural,N\\r\\nLP001030,Male,Yes,2,Graduate,No,1299,1086,17,120,1,Urban,Y\\r\\nLP001032,Male,No,0,Graduate,No,4950,0,125,360,1,Urban,Y\\r\\nLP001034,Male,No,1,Not Graduate,No,3596,0,100,240,,Urban,Y\\r\\nLP001036,Female,No,0,Graduate,No,3510,0,76,360,0,Urban,N\\r\\nLP001038,Male,Yes,0,Not Graduate,No,4887,0,133,360,1,Rural,N\\r\\nLP001041,Male,Yes,0,Graduate,,2600,3500,115,,1,Urban,Y\\r\\nLP001043,Male,Yes,0,Not Graduate,No,7660,0,104,360,0,Urban,N\\r\\nLP001046,Male,Yes,1,Graduate,No,5955,5625,315,360,1,Urban,Y\\r\\nLP001047,Male,Yes,0,Not Graduate,No,2600,1911,116,360,0,Semiurban,N\\r\\nLP001050,,Yes,2,Not Graduate,No,3365,1917,112,360,0,Rural,N\\r\\nLP001052,Male,Yes,1,Graduate,,3717,2925,151,360,,Semiurban,N\\r\\nLP001066,Male,Yes,0,Graduate,Yes,9560,0,191,360,1,Semiurban,Y\\r\\nLP001068,Male,Yes,0,Graduate,No,2799,2253,122,360,1,Semiurban,Y\\r\\nLP001073,Male,Yes,2,Not Graduate,No,4226,1040,110,360,1,Urban,Y\\r\\nLP001086,Male,No,0,Not Graduate,No,1442,0,35,360,1,Urban,N\\r\\nLP001087,Female,No,2,Graduate,,3750,2083,120,360,1,Semiurban,Y\\r\\nLP001091,Male,Yes,1,Graduate,,4166,3369,201,360,,Urban,N\\r\\nLP001095,Male,No,0,Graduate,No,3167,0,74,360,1,Urban,N\\r\\nLP001097,Male,No,1,Graduate,Yes,4692,0,106,360,1,Rural,N\\r\\nLP001098,Male,Yes,0,Graduate,No,3500,1667,114,360,1,Semiurban,Y\\r\\nLP001100,Male,No,3+,Graduate,No,12500,3000,320,360,1,Rural,N\\r\\nLP001106,Male,Yes,0,Graduate,No,2275,2067,,360,1,Urban,Y\\r\\nLP001109,Male,Yes,0,Graduate,No,1828,1330,100,,0,Urban,N\\r\\nLP001112,Female,Yes,0,Graduate,No,3667,1459,144,360,1,Semiurban,Y\\r\\nLP001114,Male,No,0,Graduate,No,4166,7210,184,360,1,Urban,Y\\r\\nLP001116,Male,No,0,Not Graduate,No,3748,1668,110,360,1,Semiurban,Y\\r\\nLP001119,Male,No,0,Graduate,No,3600,0,80,360,1,Urban,N\\r\\nLP001120,Male,No,0,Graduate,No,1800,1213,47,360,1,Urban,Y\\r\\nLP001123,Male,Yes,0,Graduate,No,2400,0,75,360,,Urban,Y\\r\\nLP001131,Male,Yes,0,Graduate,No,3941,2336,134,360,1,Semiurban,Y\\r\\nLP001136,Male,Yes,0,Not Graduate,Yes,4695,0,96,,1,Urban,Y\\r\\nLP001137,Female,No,0,Graduate,No,3410,0,88,,1,Urban,Y\\r\\nLP001138,Male,Yes,1,Graduate,No,5649,0,44,360,1,Urban,Y\\r\\nLP001144,Male,Yes,0,Graduate,No,5821,0,144,360,1,Urban,Y\\r\\nLP001146,Female,Yes,0,Graduate,No,2645,3440,120,360,0,Urban,N\\r\\nLP001151,Female,No,0,Graduate,No,4000,2275,144,360,1,Semiurban,Y\\r\\nLP001155,Female,Yes,0,Not Graduate,No,1928,1644,100,360,1,Semiurban,Y\\r\\nLP001157,Female,No,0,Graduate,No,3086,0,120,360,1,Semiurban,Y\\r\\nLP001164,Female,No,0,Graduate,No,4230,0,112,360,1,Semiurban,N\\r\\nLP001179,Male,Yes,2,Graduate,No,4616,0,134,360,1,Urban,N\\r\\nLP001186,Female,Yes,1,Graduate,Yes,11500,0,286,360,0,Urban,N\\r\\nLP001194,Male,Yes,2,Graduate,No,2708,1167,97,360,1,Semiurban,Y\\r\\nLP001195,Male,Yes,0,Graduate,No,2132,1591,96,360,1,Semiurban,Y\\r\\nLP001197,Male,Yes,0,Graduate,No,3366,2200,135,360,1,Rural,N\\r\\nLP001198,Male,Yes,1,Graduate,No,8080,2250,180,360,1,Urban,Y\\r\\nLP001199,Male,Yes,2,Not Graduate,No,3357,2859,144,360,1,Urban,Y\\r\\nLP001205,Male,Yes,0,Graduate,No,2500,3796,120,360,1,Urban,Y\\r\\nLP001206,Male,Yes,3+,Graduate,No,3029,0,99,360,1,Urban,Y\\r\\nLP001207,Male,Yes,0,Not Graduate,Yes,2609,3449,165,180,0,Rural,N\\r\\nLP001213,Male,Yes,1,Graduate,No,4945,0,,360,0,Rural,N\\r\\nLP001222,Female,No,0,Graduate,No,4166,0,116,360,0,Semiurban,N\\r\\nLP001225,Male,Yes,0,Graduate,No,5726,4595,258,360,1,Semiurban,N\\r\\nLP001228,Male,No,0,Not Graduate,No,3200,2254,126,180,0,Urban,N\\r\\nLP001233,Male,Yes,1,Graduate,No,10750,0,312,360,1,Urban,Y\\r\\nLP001238,Male,Yes,3+,Not Graduate,Yes,7100,0,125,60,1,Urban,Y\\r\\nLP001241,Female,No,0,Graduate,No,4300,0,136,360,0,Semiurban,N\\r\\nLP001243,Male,Yes,0,Graduate,No,3208,3066,172,360,1,Urban,Y\\r\\nLP001245,Male,Yes,2,Not Graduate,Yes,1875,1875,97,360,1,Semiurban,Y\\r\\nLP001248,Male,No,0,Graduate,No,3500,0,81,300,1,Semiurban,Y\\r\\nLP001250,Male,Yes,3+,Not Graduate,No,4755,0,95,,0,Semiurban,N\\r\\nLP001253,Male,Yes,3+,Graduate,Yes,5266,1774,187,360,1,Semiurban,Y\\r\\nLP001255,Male,No,0,Graduate,No,3750,0,113,480,1,Urban,N\\r\\nLP001256,Male,No,0,Graduate,No,3750,4750,176,360,1,Urban,N\\r\\nLP001259,Male,Yes,1,Graduate,Yes,1000,3022,110,360,1,Urban,N\\r\\nLP001263,Male,Yes,3+,Graduate,No,3167,4000,180,300,0,Semiurban,N\\r\\nLP001264,Male,Yes,3+,Not Graduate,Yes,3333,2166,130,360,,Semiurban,Y\\r\\nLP001265,Female,No,0,Graduate,No,3846,0,111,360,1,Semiurban,Y\\r\\nLP001266,Male,Yes,1,Graduate,Yes,2395,0,,360,1,Semiurban,Y\\r\\nLP001267,Female,Yes,2,Graduate,No,1378,1881,167,360,1,Urban,N\\r\\nLP001273,Male,Yes,0,Graduate,No,6000,2250,265,360,,Semiurban,N\\r\\nLP001275,Male,Yes,1,Graduate,No,3988,0,50,240,1,Urban,Y\\r\\nLP001279,Male,No,0,Graduate,No,2366,2531,136,360,1,Semiurban,Y\\r\\nLP001280,Male,Yes,2,Not Graduate,No,3333,2000,99,360,,Semiurban,Y\\r\\nLP001282,Male,Yes,0,Graduate,No,2500,2118,104,360,1,Semiurban,Y\\r\\nLP001289,Male,No,0,Graduate,No,8566,0,210,360,1,Urban,Y\\r\\nLP001310,Male,Yes,0,Graduate,No,5695,4167,175,360,1,Semiurban,Y\\r\\nLP001316,Male,Yes,0,Graduate,No,2958,2900,131,360,1,Semiurban,Y\\r\\nLP001318,Male,Yes,2,Graduate,No,6250,5654,188,180,1,Semiurban,Y\\r\\nLP001319,Male,Yes,2,Not Graduate,No,3273,1820,81,360,1,Urban,Y\\r\\nLP001322,Male,No,0,Graduate,No,4133,0,122,360,1,Semiurban,Y\\r\\nLP001325,Male,No,0,Not Graduate,No,3620,0,25,120,1,Semiurban,Y\\r\\nLP001326,Male,No,0,Graduate,,6782,0,,360,,Urban,N\\r\\nLP001327,Female,Yes,0,Graduate,No,2484,2302,137,360,1,Semiurban,Y\\r\\nLP001333,Male,Yes,0,Graduate,No,1977,997,50,360,1,Semiurban,Y\\r\\nLP001334,Male,Yes,0,Not Graduate,No,4188,0,115,180,1,Semiurban,Y\\r\\nLP001343,Male,Yes,0,Graduate,No,1759,3541,131,360,1,Semiurban,Y\\r\\nLP001345,Male,Yes,2,Not Graduate,No,4288,3263,133,180,1,Urban,Y\\r\\nLP001349,Male,No,0,Graduate,No,4843,3806,151,360,1,Semiurban,Y\\r\\nLP001350,Male,Yes,,Graduate,No,13650,0,,360,1,Urban,Y\\r\\nLP001356,Male,Yes,0,Graduate,No,4652,3583,,360,1,Semiurban,Y\\r\\nLP001357,Male,,,Graduate,No,3816,754,160,360,1,Urban,Y\\r\\nLP001367,Male,Yes,1,Graduate,No,3052,1030,100,360,1,Urban,Y\\r\\nLP001369,Male,Yes,2,Graduate,No,11417,1126,225,360,1,Urban,Y\\r\\nLP001370,Male,No,0,Not Graduate,,7333,0,120,360,1,Rural,N\\r\\nLP001379,Male,Yes,2,Graduate,No,3800,3600,216,360,0,Urban,N\\r\\nLP001384,Male,Yes,3+,Not Graduate,No,2071,754,94,480,1,Semiurban,Y\\r\\nLP001385,Male,No,0,Graduate,No,5316,0,136,360,1,Urban,Y\\r\\nLP001387,Female,Yes,0,Graduate,,2929,2333,139,360,1,Semiurban,Y\\r\\nLP001391,Male,Yes,0,Not Graduate,No,3572,4114,152,,0,Rural,N\\r\\nLP001392,Female,No,1,Graduate,Yes,7451,0,,360,1,Semiurban,Y\\r\\nLP001398,Male,No,0,Graduate,,5050,0,118,360,1,Semiurban,Y\\r\\nLP001401,Male,Yes,1,Graduate,No,14583,0,185,180,1,Rural,Y\\r\\nLP001404,Female,Yes,0,Graduate,No,3167,2283,154,360,1,Semiurban,Y\\r\\nLP001405,Male,Yes,1,Graduate,No,2214,1398,85,360,,Urban,Y\\r\\nLP001421,Male,Yes,0,Graduate,No,5568,2142,175,360,1,Rural,N\\r\\nLP001422,Female,No,0,Graduate,No,10408,0,259,360,1,Urban,Y\\r\\nLP001426,Male,Yes,,Graduate,No,5667,2667,180,360,1,Rural,Y\\r\\nLP001430,Female,No,0,Graduate,No,4166,0,44,360,1,Semiurban,Y\\r\\nLP001431,Female,No,0,Graduate,No,2137,8980,137,360,0,Semiurban,Y\\r\\nLP001432,Male,Yes,2,Graduate,No,2957,0,81,360,1,Semiurban,Y\\r\\nLP001439,Male,Yes,0,Not Graduate,No,4300,2014,194,360,1,Rural,Y\\r\\nLP001443,Female,No,0,Graduate,No,3692,0,93,360,,Rural,Y\\r\\nLP001448,,Yes,3+,Graduate,No,23803,0,370,360,1,Rural,Y\\r\\nLP001449,Male,No,0,Graduate,No,3865,1640,,360,1,Rural,Y\\r\\nLP001451,Male,Yes,1,Graduate,Yes,10513,3850,160,180,0,Urban,N\\r\\nLP001465,Male,Yes,0,Graduate,No,6080,2569,182,360,,Rural,N\\r\\nLP001469,Male,No,0,Graduate,Yes,20166,0,650,480,,Urban,Y\\r\\nLP001473,Male,No,0,Graduate,No,2014,1929,74,360,1,Urban,Y\\r\\nLP001478,Male,No,0,Graduate,No,2718,0,70,360,1,Semiurban,Y\\r\\nLP001482,Male,Yes,0,Graduate,Yes,3459,0,25,120,1,Semiurban,Y\\r\\nLP001487,Male,No,0,Graduate,No,4895,0,102,360,1,Semiurban,Y\\r\\nLP001488,Male,Yes,3+,Graduate,No,4000,7750,290,360,1,Semiurban,N\\r\\nLP001489,Female,Yes,0,Graduate,No,4583,0,84,360,1,Rural,N\\r\\nLP001491,Male,Yes,2,Graduate,Yes,3316,3500,88,360,1,Urban,Y\\r\\nLP001492,Male,No,0,Graduate,No,14999,0,242,360,0,Semiurban,N\\r\\nLP001493,Male,Yes,2,Not Graduate,No,4200,1430,129,360,1,Rural,N\\r\\nLP001497,Male,Yes,2,Graduate,No,5042,2083,185,360,1,Rural,N\\r\\nLP001498,Male,No,0,Graduate,No,5417,0,168,360,1,Urban,Y\\r\\nLP001504,Male,No,0,Graduate,Yes,6950,0,175,180,1,Semiurban,Y\\r\\nLP001507,Male,Yes,0,Graduate,No,2698,2034,122,360,1,Semiurban,Y\\r\\nLP001508,Male,Yes,2,Graduate,No,11757,0,187,180,1,Urban,Y\\r\\nLP001514,Female,Yes,0,Graduate,No,2330,4486,100,360,1,Semiurban,Y\\r\\nLP001516,Female,Yes,2,Graduate,No,14866,0,70,360,1,Urban,Y\\r\\nLP001518,Male,Yes,1,Graduate,No,1538,1425,30,360,1,Urban,Y\\r\\nLP001519,Female,No,0,Graduate,No,10000,1666,225,360,1,Rural,N\\r\\nLP001520,Male,Yes,0,Graduate,No,4860,830,125,360,1,Semiurban,Y\\r\\nLP001528,Male,No,0,Graduate,No,6277,0,118,360,0,Rural,N\\r\\nLP001529,Male,Yes,0,Graduate,Yes,2577,3750,152,360,1,Rural,Y\\r\\nLP001531,Male,No,0,Graduate,No,9166,0,244,360,1,Urban,N\\r\\nLP001532,Male,Yes,2,Not Graduate,No,2281,0,113,360,1,Rural,N\\r\\nLP001535,Male,No,0,Graduate,No,3254,0,50,360,1,Urban,Y\\r\\nLP001536,Male,Yes,3+,Graduate,No,39999,0,600,180,0,Semiurban,Y\\r\\nLP001541,Male,Yes,1,Graduate,No,6000,0,160,360,,Rural,Y\\r\\nLP001543,Male,Yes,1,Graduate,No,9538,0,187,360,1,Urban,Y\\r\\nLP001546,Male,No,0,Graduate,,2980,2083,120,360,1,Rural,Y\\r\\nLP001552,Male,Yes,0,Graduate,No,4583,5625,255,360,1,Semiurban,Y\\r\\nLP001560,Male,Yes,0,Not Graduate,No,1863,1041,98,360,1,Semiurban,Y\\r\\nLP001562,Male,Yes,0,Graduate,No,7933,0,275,360,1,Urban,N\\r\\nLP001565,Male,Yes,1,Graduate,No,3089,1280,121,360,0,Semiurban,N\\r\\nLP001570,Male,Yes,2,Graduate,No,4167,1447,158,360,1,Rural,Y\\r\\nLP001572,Male,Yes,0,Graduate,No,9323,0,75,180,1,Urban,Y\\r\\nLP001574,Male,Yes,0,Graduate,No,3707,3166,182,,1,Rural,Y\\r\\nLP001577,Female,Yes,0,Graduate,No,4583,0,112,360,1,Rural,N\\r\\nLP001578,Male,Yes,0,Graduate,No,2439,3333,129,360,1,Rural,Y\\r\\nLP001579,Male,No,0,Graduate,No,2237,0,63,480,0,Semiurban,N\\r\\nLP001580,Male,Yes,2,Graduate,No,8000,0,200,360,1,Semiurban,Y\\r\\nLP001581,Male,Yes,0,Not Graduate,,1820,1769,95,360,1,Rural,Y\\r\\nLP001585,,Yes,3+,Graduate,No,51763,0,700,300,1,Urban,Y\\r\\nLP001586,Male,Yes,3+,Not Graduate,No,3522,0,81,180,1,Rural,N\\r\\nLP001594,Male,Yes,0,Graduate,No,5708,5625,187,360,1,Semiurban,Y\\r\\nLP001603,Male,Yes,0,Not Graduate,Yes,4344,736,87,360,1,Semiurban,N\\r\\nLP001606,Male,Yes,0,Graduate,No,3497,1964,116,360,1,Rural,Y\\r\\nLP001608,Male,Yes,2,Graduate,No,2045,1619,101,360,1,Rural,Y\\r\\nLP001610,Male,Yes,3+,Graduate,No,5516,11300,495,360,0,Semiurban,N\\r\\nLP001616,Male,Yes,1,Graduate,No,3750,0,116,360,1,Semiurban,Y\\r\\nLP001630,Male,No,0,Not Graduate,No,2333,1451,102,480,0,Urban,N\\r\\nLP001633,Male,Yes,1,Graduate,No,6400,7250,180,360,0,Urban,N\\r\\nLP001634,Male,No,0,Graduate,No,1916,5063,67,360,,Rural,N\\r\\nLP001636,Male,Yes,0,Graduate,No,4600,0,73,180,1,Semiurban,Y\\r\\nLP001637,Male,Yes,1,Graduate,No,33846,0,260,360,1,Semiurban,N\\r\\nLP001639,Female,Yes,0,Graduate,No,3625,0,108,360,1,Semiurban,Y\\r\\nLP001640,Male,Yes,0,Graduate,Yes,39147,4750,120,360,1,Semiurban,Y\\r\\nLP001641,Male,Yes,1,Graduate,Yes,2178,0,66,300,0,Rural,N\\r\\nLP001643,Male,Yes,0,Graduate,No,2383,2138,58,360,,Rural,Y\\r\\nLP001644,,Yes,0,Graduate,Yes,674,5296,168,360,1,Rural,Y\\r\\nLP001647,Male,Yes,0,Graduate,No,9328,0,188,180,1,Rural,Y\\r\\nLP001653,Male,No,0,Not Graduate,No,4885,0,48,360,1,Rural,Y\\r\\nLP001656,Male,No,0,Graduate,No,12000,0,164,360,1,Semiurban,N\\r\\nLP001657,Male,Yes,0,Not Graduate,No,6033,0,160,360,1,Urban,N\\r\\nLP001658,Male,No,0,Graduate,No,3858,0,76,360,1,Semiurban,Y\\r\\nLP001664,Male,No,0,Graduate,No,4191,0,120,360,1,Rural,Y\\r\\nLP001665,Male,Yes,1,Graduate,No,3125,2583,170,360,1,Semiurban,N\\r\\nLP001666,Male,No,0,Graduate,No,8333,3750,187,360,1,Rural,Y\\r\\nLP001669,Female,No,0,Not Graduate,No,1907,2365,120,,1,Urban,Y\\r\\nLP001671,Female,Yes,0,Graduate,No,3416,2816,113,360,,Semiurban,Y\\r\\nLP001673,Male,No,0,Graduate,Yes,11000,0,83,360,1,Urban,N\\r\\nLP001674,Male,Yes,1,Not Graduate,No,2600,2500,90,360,1,Semiurban,Y\\r\\nLP001677,Male,No,2,Graduate,No,4923,0,166,360,0,Semiurban,Y\\r\\nLP001682,Male,Yes,3+,Not Graduate,No,3992,0,,180,1,Urban,N\\r\\nLP001688,Male,Yes,1,Not Graduate,No,3500,1083,135,360,1,Urban,Y\\r\\nLP001691,Male,Yes,2,Not Graduate,No,3917,0,124,360,1,Semiurban,Y\\r\\nLP001692,Female,No,0,Not Graduate,No,4408,0,120,360,1,Semiurban,Y\\r\\nLP001693,Female,No,0,Graduate,No,3244,0,80,360,1,Urban,Y\\r\\nLP001698,Male,No,0,Not Graduate,No,3975,2531,55,360,1,Rural,Y\\r\\nLP001699,Male,No,0,Graduate,No,2479,0,59,360,1,Urban,Y\\r\\nLP001702,Male,No,0,Graduate,No,3418,0,127,360,1,Semiurban,N\\r\\nLP001708,Female,No,0,Graduate,No,10000,0,214,360,1,Semiurban,N\\r\\nLP001711,Male,Yes,3+,Graduate,No,3430,1250,128,360,0,Semiurban,N\\r\\nLP001713,Male,Yes,1,Graduate,Yes,7787,0,240,360,1,Urban,Y\\r\\nLP001715,Male,Yes,3+,Not Graduate,Yes,5703,0,130,360,1,Rural,Y\\r\\nLP001716,Male,Yes,0,Graduate,No,3173,3021,137,360,1,Urban,Y\\r\\nLP001720,Male,Yes,3+,Not Graduate,No,3850,983,100,360,1,Semiurban,Y\\r\\nLP001722,Male,Yes,0,Graduate,No,150,1800,135,360,1,Rural,N\\r\\nLP001726,Male,Yes,0,Graduate,No,3727,1775,131,360,1,Semiurban,Y\\r\\nLP001732,Male,Yes,2,Graduate,,5000,0,72,360,0,Semiurban,N\\r\\nLP001734,Female,Yes,2,Graduate,No,4283,2383,127,360,,Semiurban,Y\\r\\nLP001736,Male,Yes,0,Graduate,No,2221,0,60,360,0,Urban,N\\r\\nLP001743,Male,Yes,2,Graduate,No,4009,1717,116,360,1,Semiurban,Y\\r\\nLP001744,Male,No,0,Graduate,No,2971,2791,144,360,1,Semiurban,Y\\r\\nLP001749,Male,Yes,0,Graduate,No,7578,1010,175,,1,Semiurban,Y\\r\\nLP001750,Male,Yes,0,Graduate,No,6250,0,128,360,1,Semiurban,Y\\r\\nLP001751,Male,Yes,0,Graduate,No,3250,0,170,360,1,Rural,N\\r\\nLP001754,Male,Yes,,Not Graduate,Yes,4735,0,138,360,1,Urban,N\\r\\nLP001758,Male,Yes,2,Graduate,No,6250,1695,210,360,1,Semiurban,Y\\r\\nLP001760,Male,,,Graduate,No,4758,0,158,480,1,Semiurban,Y\\r\\nLP001761,Male,No,0,Graduate,Yes,6400,0,200,360,1,Rural,Y\\r\\nLP001765,Male,Yes,1,Graduate,No,2491,2054,104,360,1,Semiurban,Y\\r\\nLP001768,Male,Yes,0,Graduate,,3716,0,42,180,1,Rural,Y\\r\\nLP001770,Male,No,0,Not Graduate,No,3189,2598,120,,1,Rural,Y\\r\\nLP001776,Female,No,0,Graduate,No,8333,0,280,360,1,Semiurban,Y\\r\\nLP001778,Male,Yes,1,Graduate,No,3155,1779,140,360,1,Semiurban,Y\\r\\nLP001784,Male,Yes,1,Graduate,No,5500,1260,170,360,1,Rural,Y\\r\\nLP001786,Male,Yes,0,Graduate,,5746,0,255,360,,Urban,N\\r\\nLP001788,Female,No,0,Graduate,Yes,3463,0,122,360,,Urban,Y\\r\\nLP001790,Female,No,1,Graduate,No,3812,0,112,360,1,Rural,Y\\r\\nLP001792,Male,Yes,1,Graduate,No,3315,0,96,360,1,Semiurban,Y\\r\\nLP001798,Male,Yes,2,Graduate,No,5819,5000,120,360,1,Rural,Y\\r\\nLP001800,Male,Yes,1,Not Graduate,No,2510,1983,140,180,1,Urban,N\\r\\nLP001806,Male,No,0,Graduate,No,2965,5701,155,60,1,Urban,Y\\r\\nLP001807,Male,Yes,2,Graduate,Yes,6250,1300,108,360,1,Rural,Y\\r\\nLP001811,Male,Yes,0,Not Graduate,No,3406,4417,123,360,1,Semiurban,Y\\r\\nLP001813,Male,No,0,Graduate,Yes,6050,4333,120,180,1,Urban,N\\r\\nLP001814,Male,Yes,2,Graduate,No,9703,0,112,360,1,Urban,Y\\r\\nLP001819,Male,Yes,1,Not Graduate,No,6608,0,137,180,1,Urban,Y\\r\\nLP001824,Male,Yes,1,Graduate,No,2882,1843,123,480,1,Semiurban,Y\\r\\nLP001825,Male,Yes,0,Graduate,No,1809,1868,90,360,1,Urban,Y\\r\\nLP001835,Male,Yes,0,Not Graduate,No,1668,3890,201,360,0,Semiurban,N\\r\\nLP001836,Female,No,2,Graduate,No,3427,0,138,360,1,Urban,N\\r\\nLP001841,Male,No,0,Not Graduate,Yes,2583,2167,104,360,1,Rural,Y\\r\\nLP001843,Male,Yes,1,Not Graduate,No,2661,7101,279,180,1,Semiurban,Y\\r\\nLP001844,Male,No,0,Graduate,Yes,16250,0,192,360,0,Urban,N\\r\\nLP001846,Female,No,3+,Graduate,No,3083,0,255,360,1,Rural,Y\\r\\nLP001849,Male,No,0,Not Graduate,No,6045,0,115,360,0,Rural,N\\r\\nLP001854,Male,Yes,3+,Graduate,No,5250,0,94,360,1,Urban,N\\r\\nLP001859,Male,Yes,0,Graduate,No,14683,2100,304,360,1,Rural,N\\r\\nLP001864,Male,Yes,3+,Not Graduate,No,4931,0,128,360,,Semiurban,N\\r\\nLP001865,Male,Yes,1,Graduate,No,6083,4250,330,360,,Urban,Y\\r\\nLP001868,Male,No,0,Graduate,No,2060,2209,134,360,1,Semiurban,Y\\r\\nLP001870,Female,No,1,Graduate,No,3481,0,155,36,1,Semiurban,N\\r\\nLP001871,Female,No,0,Graduate,No,7200,0,120,360,1,Rural,Y\\r\\nLP001872,Male,No,0,Graduate,Yes,5166,0,128,360,1,Semiurban,Y\\r\\nLP001875,Male,No,0,Graduate,No,4095,3447,151,360,1,Rural,Y\\r\\nLP001877,Male,Yes,2,Graduate,No,4708,1387,150,360,1,Semiurban,Y\\r\\nLP001882,Male,Yes,3+,Graduate,No,4333,1811,160,360,0,Urban,Y\\r\\nLP001883,Female,No,0,Graduate,,3418,0,135,360,1,Rural,N\\r\\nLP001884,Female,No,1,Graduate,No,2876,1560,90,360,1,Urban,Y\\r\\nLP001888,Female,No,0,Graduate,No,3237,0,30,360,1,Urban,Y\\r\\nLP001891,Male,Yes,0,Graduate,No,11146,0,136,360,1,Urban,Y\\r\\nLP001892,Male,No,0,Graduate,No,2833,1857,126,360,1,Rural,Y\\r\\nLP001894,Male,Yes,0,Graduate,No,2620,2223,150,360,1,Semiurban,Y\\r\\nLP001896,Male,Yes,2,Graduate,No,3900,0,90,360,1,Semiurban,Y\\r\\nLP001900,Male,Yes,1,Graduate,No,2750,1842,115,360,1,Semiurban,Y\\r\\nLP001903,Male,Yes,0,Graduate,No,3993,3274,207,360,1,Semiurban,Y\\r\\nLP001904,Male,Yes,0,Graduate,No,3103,1300,80,360,1,Urban,Y\\r\\nLP001907,Male,Yes,0,Graduate,No,14583,0,436,360,1,Semiurban,Y\\r\\nLP001908,Female,Yes,0,Not Graduate,No,4100,0,124,360,,Rural,Y\\r\\nLP001910,Male,No,1,Not Graduate,Yes,4053,2426,158,360,0,Urban,N\\r\\nLP001914,Male,Yes,0,Graduate,No,3927,800,112,360,1,Semiurban,Y\\r\\nLP001915,Male,Yes,2,Graduate,No,2301,985.7999878,78,180,1,Urban,Y\\r\\nLP001917,Female,No,0,Graduate,No,1811,1666,54,360,1,Urban,Y\\r\\nLP001922,Male,Yes,0,Graduate,No,20667,0,,360,1,Rural,N\\r\\nLP001924,Male,No,0,Graduate,No,3158,3053,89,360,1,Rural,Y\\r\\nLP001925,Female,No,0,Graduate,Yes,2600,1717,99,300,1,Semiurban,N\\r\\nLP001926,Male,Yes,0,Graduate,No,3704,2000,120,360,1,Rural,Y\\r\\nLP001931,Female,No,0,Graduate,No,4124,0,115,360,1,Semiurban,Y\\r\\nLP001935,Male,No,0,Graduate,No,9508,0,187,360,1,Rural,Y\\r\\nLP001936,Male,Yes,0,Graduate,No,3075,2416,139,360,1,Rural,Y\\r\\nLP001938,Male,Yes,2,Graduate,No,4400,0,127,360,0,Semiurban,N\\r\\nLP001940,Male,Yes,2,Graduate,No,3153,1560,134,360,1,Urban,Y\\r\\nLP001945,Female,No,,Graduate,No,5417,0,143,480,0,Urban,N\\r\\nLP001947,Male,Yes,0,Graduate,No,2383,3334,172,360,1,Semiurban,Y\\r\\nLP001949,Male,Yes,3+,Graduate,,4416,1250,110,360,1,Urban,Y\\r\\nLP001953,Male,Yes,1,Graduate,No,6875,0,200,360,1,Semiurban,Y\\r\\nLP001954,Female,Yes,1,Graduate,No,4666,0,135,360,1,Urban,Y\\r\\nLP001955,Female,No,0,Graduate,No,5000,2541,151,480,1,Rural,N\\r\\nLP001963,Male,Yes,1,Graduate,No,2014,2925,113,360,1,Urban,N\\r\\nLP001964,Male,Yes,0,Not Graduate,No,1800,2934,93,360,0,Urban,N\\r\\nLP001972,Male,Yes,,Not Graduate,No,2875,1750,105,360,1,Semiurban,Y\\r\\nLP001974,Female,No,0,Graduate,No,5000,0,132,360,1,Rural,Y\\r\\nLP001977,Male,Yes,1,Graduate,No,1625,1803,96,360,1,Urban,Y\\r\\nLP001978,Male,No,0,Graduate,No,4000,2500,140,360,1,Rural,Y\\r\\nLP001990,Male,No,0,Not Graduate,No,2000,0,,360,1,Urban,N\\r\\nLP001993,Female,No,0,Graduate,No,3762,1666,135,360,1,Rural,Y\\r\\nLP001994,Female,No,0,Graduate,No,2400,1863,104,360,0,Urban,N\\r\\nLP001996,Male,No,0,Graduate,No,20233,0,480,360,1,Rural,N\\r\\nLP001998,Male,Yes,2,Not Graduate,No,7667,0,185,360,,Rural,Y\\r\\nLP002002,Female,No,0,Graduate,No,2917,0,84,360,1,Semiurban,Y\\r\\nLP002004,Male,No,0,Not Graduate,No,2927,2405,111,360,1,Semiurban,Y\\r\\nLP002006,Female,No,0,Graduate,No,2507,0,56,360,1,Rural,Y\\r\\nLP002008,Male,Yes,2,Graduate,Yes,5746,0,144,84,,Rural,Y\\r\\nLP002024,,Yes,0,Graduate,No,2473,1843,159,360,1,Rural,N\\r\\nLP002031,Male,Yes,1,Not Graduate,No,3399,1640,111,180,1,Urban,Y\\r\\nLP002035,Male,Yes,2,Graduate,No,3717,0,120,360,1,Semiurban,Y\\r\\nLP002036,Male,Yes,0,Graduate,No,2058,2134,88,360,,Urban,Y\\r\\nLP002043,Female,No,1,Graduate,No,3541,0,112,360,,Semiurban,Y\\r\\nLP002050,Male,Yes,1,Graduate,Yes,10000,0,155,360,1,Rural,N\\r\\nLP002051,Male,Yes,0,Graduate,No,2400,2167,115,360,1,Semiurban,Y\\r\\nLP002053,Male,Yes,3+,Graduate,No,4342,189,124,360,1,Semiurban,Y\\r\\nLP002054,Male,Yes,2,Not Graduate,No,3601,1590,,360,1,Rural,Y\\r\\nLP002055,Female,No,0,Graduate,No,3166,2985,132,360,,Rural,Y\\r\\nLP002065,Male,Yes,3+,Graduate,No,15000,0,300,360,1,Rural,Y\\r\\nLP002067,Male,Yes,1,Graduate,Yes,8666,4983,376,360,0,Rural,N\\r\\nLP002068,Male,No,0,Graduate,No,4917,0,130,360,0,Rural,Y\\r\\nLP002082,Male,Yes,0,Graduate,Yes,5818,2160,184,360,1,Semiurban,Y\\r\\nLP002086,Female,Yes,0,Graduate,No,4333,2451,110,360,1,Urban,N\\r\\nLP002087,Female,No,0,Graduate,No,2500,0,67,360,1,Urban,Y\\r\\nLP002097,Male,No,1,Graduate,No,4384,1793,117,360,1,Urban,Y\\r\\nLP002098,Male,No,0,Graduate,No,2935,0,98,360,1,Semiurban,Y\\r\\nLP002100,Male,No,,Graduate,No,2833,0,71,360,1,Urban,Y\\r\\nLP002101,Male,Yes,0,Graduate,,63337,0,490,180,1,Urban,Y\\r\\nLP002103,,Yes,1,Graduate,Yes,9833,1833,182,180,1,Urban,Y\\r\\nLP002106,Male,Yes,,Graduate,Yes,5503,4490,70,,1,Semiurban,Y\\r\\nLP002110,Male,Yes,1,Graduate,,5250,688,160,360,1,Rural,Y\\r\\nLP002112,Male,Yes,2,Graduate,Yes,2500,4600,176,360,1,Rural,Y\\r\\nLP002113,Female,No,3+,Not Graduate,No,1830,0,,360,0,Urban,N\\r\\nLP002114,Female,No,0,Graduate,No,4160,0,71,360,1,Semiurban,Y\\r\\nLP002115,Male,Yes,3+,Not Graduate,No,2647,1587,173,360,1,Rural,N\\r\\nLP002116,Female,No,0,Graduate,No,2378,0,46,360,1,Rural,N\\r\\nLP002119,Male,Yes,1,Not Graduate,No,4554,1229,158,360,1,Urban,Y\\r\\nLP002126,Male,Yes,3+,Not Graduate,No,3173,0,74,360,1,Semiurban,Y\\r\\nLP002128,Male,Yes,2,Graduate,,2583,2330,125,360,1,Rural,Y\\r\\nLP002129,Male,Yes,0,Graduate,No,2499,2458,160,360,1,Semiurban,Y\\r\\nLP002130,Male,Yes,,Not Graduate,No,3523,3230,152,360,0,Rural,N\\r\\nLP002131,Male,Yes,2,Not Graduate,No,3083,2168,126,360,1,Urban,Y\\r\\nLP002137,Male,Yes,0,Graduate,No,6333,4583,259,360,,Semiurban,Y\\r\\nLP002138,Male,Yes,0,Graduate,No,2625,6250,187,360,1,Rural,Y\\r\\nLP002139,Male,Yes,0,Graduate,No,9083,0,228,360,1,Semiurban,Y\\r\\nLP002140,Male,No,0,Graduate,No,8750,4167,308,360,1,Rural,N\\r\\nLP002141,Male,Yes,3+,Graduate,No,2666,2083,95,360,1,Rural,Y\\r\\nLP002142,Female,Yes,0,Graduate,Yes,5500,0,105,360,0,Rural,N\\r\\nLP002143,Female,Yes,0,Graduate,No,2423,505,130,360,1,Semiurban,Y\\r\\nLP002144,Female,No,,Graduate,No,3813,0,116,180,1,Urban,Y\\r\\nLP002149,Male,Yes,2,Graduate,No,8333,3167,165,360,1,Rural,Y\\r\\nLP002151,Male,Yes,1,Graduate,No,3875,0,67,360,1,Urban,N\\r\\nLP002158,Male,Yes,0,Not Graduate,No,3000,1666,100,480,0,Urban,N\\r\\nLP002160,Male,Yes,3+,Graduate,No,5167,3167,200,360,1,Semiurban,Y\\r\\nLP002161,Female,No,1,Graduate,No,4723,0,81,360,1,Semiurban,N\\r\\nLP002170,Male,Yes,2,Graduate,No,5000,3667,236,360,1,Semiurban,Y\\r\\nLP002175,Male,Yes,0,Graduate,No,4750,2333,130,360,1,Urban,Y\\r\\nLP002178,Male,Yes,0,Graduate,No,3013,3033,95,300,,Urban,Y\\r\\nLP002180,Male,No,0,Graduate,Yes,6822,0,141,360,1,Rural,Y\\r\\nLP002181,Male,No,0,Not Graduate,No,6216,0,133,360,1,Rural,N\\r\\nLP002187,Male,No,0,Graduate,No,2500,0,96,480,1,Semiurban,N\\r\\nLP002188,Male,No,0,Graduate,No,5124,0,124,,0,Rural,N\\r\\nLP002190,Male,Yes,1,Graduate,No,6325,0,175,360,1,Semiurban,Y\\r\\nLP002191,Male,Yes,0,Graduate,No,19730,5266,570,360,1,Rural,N\\r\\nLP002194,Female,No,0,Graduate,Yes,15759,0,55,360,1,Semiurban,Y\\r\\nLP002197,Male,Yes,2,Graduate,No,5185,0,155,360,1,Semiurban,Y\\r\\nLP002201,Male,Yes,2,Graduate,Yes,9323,7873,380,300,1,Rural,Y\\r\\nLP002205,Male,No,1,Graduate,No,3062,1987,111,180,0,Urban,N\\r\\nLP002209,Female,No,0,Graduate,,2764,1459,110,360,1,Urban,Y\\r\\nLP002211,Male,Yes,0,Graduate,No,4817,923,120,180,1,Urban,Y\\r\\nLP002219,Male,Yes,3+,Graduate,No,8750,4996,130,360,1,Rural,Y\\r\\nLP002223,Male,Yes,0,Graduate,No,4310,0,130,360,,Semiurban,Y\\r\\nLP002224,Male,No,0,Graduate,No,3069,0,71,480,1,Urban,N\\r\\nLP002225,Male,Yes,2,Graduate,No,5391,0,130,360,1,Urban,Y\\r\\nLP002226,Male,Yes,0,Graduate,,3333,2500,128,360,1,Semiurban,Y\\r\\nLP002229,Male,No,0,Graduate,No,5941,4232,296,360,1,Semiurban,Y\\r\\nLP002231,Female,No,0,Graduate,No,6000,0,156,360,1,Urban,Y\\r\\nLP002234,Male,No,0,Graduate,Yes,7167,0,128,360,1,Urban,Y\\r\\nLP002236,Male,Yes,2,Graduate,No,4566,0,100,360,1,Urban,N\\r\\nLP002237,Male,No,1,Graduate,,3667,0,113,180,1,Urban,Y\\r\\nLP002239,Male,No,0,Not Graduate,No,2346,1600,132,360,1,Semiurban,Y\\r\\nLP002243,Male,Yes,0,Not Graduate,No,3010,3136,,360,0,Urban,N\\r\\nLP002244,Male,Yes,0,Graduate,No,2333,2417,136,360,1,Urban,Y\\r\\nLP002250,Male,Yes,0,Graduate,No,5488,0,125,360,1,Rural,Y\\r\\nLP002255,Male,No,3+,Graduate,No,9167,0,185,360,1,Rural,Y\\r\\nLP002262,Male,Yes,3+,Graduate,No,9504,0,275,360,1,Rural,Y\\r\\nLP002263,Male,Yes,0,Graduate,No,2583,2115,120,360,,Urban,Y\\r\\nLP002265,Male,Yes,2,Not Graduate,No,1993,1625,113,180,1,Semiurban,Y\\r\\nLP002266,Male,Yes,2,Graduate,No,3100,1400,113,360,1,Urban,Y\\r\\nLP002272,Male,Yes,2,Graduate,No,3276,484,135,360,,Semiurban,Y\\r\\nLP002277,Female,No,0,Graduate,No,3180,0,71,360,0,Urban,N\\r\\nLP002281,Male,Yes,0,Graduate,No,3033,1459,95,360,1,Urban,Y\\r\\nLP002284,Male,No,0,Not Graduate,No,3902,1666,109,360,1,Rural,Y\\r\\nLP002287,Female,No,0,Graduate,No,1500,1800,103,360,0,Semiurban,N\\r\\nLP002288,Male,Yes,2,Not Graduate,No,2889,0,45,180,0,Urban,N\\r\\nLP002296,Male,No,0,Not Graduate,No,2755,0,65,300,1,Rural,N\\r\\nLP002297,Male,No,0,Graduate,No,2500,20000,103,360,1,Semiurban,Y\\r\\nLP002300,Female,No,0,Not Graduate,No,1963,0,53,360,1,Semiurban,Y\\r\\nLP002301,Female,No,0,Graduate,Yes,7441,0,194,360,1,Rural,N\\r\\nLP002305,Female,No,0,Graduate,No,4547,0,115,360,1,Semiurban,Y\\r\\nLP002308,Male,Yes,0,Not Graduate,No,2167,2400,115,360,1,Urban,Y\\r\\nLP002314,Female,No,0,Not Graduate,No,2213,0,66,360,1,Rural,Y\\r\\nLP002315,Male,Yes,1,Graduate,No,8300,0,152,300,0,Semiurban,N\\r\\nLP002317,Male,Yes,3+,Graduate,No,81000,0,360,360,0,Rural,N\\r\\nLP002318,Female,No,1,Not Graduate,Yes,3867,0,62,360,1,Semiurban,N\\r\\nLP002319,Male,Yes,0,Graduate,,6256,0,160,360,,Urban,Y\\r\\nLP002328,Male,Yes,0,Not Graduate,No,6096,0,218,360,0,Rural,N\\r\\nLP002332,Male,Yes,0,Not Graduate,No,2253,2033,110,360,1,Rural,Y\\r\\nLP002335,Female,Yes,0,Not Graduate,No,2149,3237,178,360,0,Semiurban,N\\r\\nLP002337,Female,No,0,Graduate,No,2995,0,60,360,1,Urban,Y\\r\\nLP002341,Female,No,1,Graduate,No,2600,0,160,360,1,Urban,N\\r\\nLP002342,Male,Yes,2,Graduate,Yes,1600,20000,239,360,1,Urban,N\\r\\nLP002345,Male,Yes,0,Graduate,No,1025,2773,112,360,1,Rural,Y\\r\\nLP002347,Male,Yes,0,Graduate,No,3246,1417,138,360,1,Semiurban,Y\\r\\nLP002348,Male,Yes,0,Graduate,No,5829,0,138,360,1,Rural,Y\\r\\nLP002357,Female,No,0,Not Graduate,No,2720,0,80,,0,Urban,N\\r\\nLP002361,Male,Yes,0,Graduate,No,1820,1719,100,360,1,Urban,Y\\r\\nLP002362,Male,Yes,1,Graduate,No,7250,1667,110,,0,Urban,N\\r\\nLP002364,Male,Yes,0,Graduate,No,14880,0,96,360,1,Semiurban,Y\\r\\nLP002366,Male,Yes,0,Graduate,No,2666,4300,121,360,1,Rural,Y\\r\\nLP002367,Female,No,1,Not Graduate,No,4606,0,81,360,1,Rural,N\\r\\nLP002368,Male,Yes,2,Graduate,No,5935,0,133,360,1,Semiurban,Y\\r\\nLP002369,Male,Yes,0,Graduate,No,2920,16.12000084,87,360,1,Rural,Y\\r\\nLP002370,Male,No,0,Not Graduate,No,2717,0,60,180,1,Urban,Y\\r\\nLP002377,Female,No,1,Graduate,Yes,8624,0,150,360,1,Semiurban,Y\\r\\nLP002379,Male,No,0,Graduate,No,6500,0,105,360,0,Rural,N\\r\\nLP002386,Male,No,0,Graduate,,12876,0,405,360,1,Semiurban,Y\\r\\nLP002387,Male,Yes,0,Graduate,No,2425,2340,143,360,1,Semiurban,Y\\r\\nLP002390,Male,No,0,Graduate,No,3750,0,100,360,1,Urban,Y\\r\\nLP002393,Female,,,Graduate,No,10047,0,,240,1,Semiurban,Y\\r\\nLP002398,Male,No,0,Graduate,No,1926,1851,50,360,1,Semiurban,Y\\r\\nLP002401,Male,Yes,0,Graduate,No,2213,1125,,360,1,Urban,Y\\r\\nLP002403,Male,No,0,Graduate,Yes,10416,0,187,360,0,Urban,N\\r\\nLP002407,Female,Yes,0,Not Graduate,Yes,7142,0,138,360,1,Rural,Y\\r\\nLP002408,Male,No,0,Graduate,No,3660,5064,187,360,1,Semiurban,Y\\r\\nLP002409,Male,Yes,0,Graduate,No,7901,1833,180,360,1,Rural,Y\\r\\nLP002418,Male,No,3+,Not Graduate,No,4707,1993,148,360,1,Semiurban,Y\\r\\nLP002422,Male,No,1,Graduate,No,37719,0,152,360,1,Semiurban,Y\\r\\nLP002424,Male,Yes,0,Graduate,No,7333,8333,175,300,,Rural,Y\\r\\nLP002429,Male,Yes,1,Graduate,Yes,3466,1210,130,360,1,Rural,Y\\r\\nLP002434,Male,Yes,2,Not Graduate,No,4652,0,110,360,1,Rural,Y\\r\\nLP002435,Male,Yes,0,Graduate,,3539,1376,55,360,1,Rural,N\\r\\nLP002443,Male,Yes,2,Graduate,No,3340,1710,150,360,0,Rural,N\\r\\nLP002444,Male,No,1,Not Graduate,Yes,2769,1542,190,360,,Semiurban,N\\r\\nLP002446,Male,Yes,2,Not Graduate,No,2309,1255,125,360,0,Rural,N\\r\\nLP002447,Male,Yes,2,Not Graduate,No,1958,1456,60,300,,Urban,Y\\r\\nLP002448,Male,Yes,0,Graduate,No,3948,1733,149,360,0,Rural,N\\r\\nLP002449,Male,Yes,0,Graduate,No,2483,2466,90,180,0,Rural,Y\\r\\nLP002453,Male,No,0,Graduate,Yes,7085,0,84,360,1,Semiurban,Y\\r\\nLP002455,Male,Yes,2,Graduate,No,3859,0,96,360,1,Semiurban,Y\\r\\nLP002459,Male,Yes,0,Graduate,No,4301,0,118,360,1,Urban,Y\\r\\nLP002467,Male,Yes,0,Graduate,No,3708,2569,173,360,1,Urban,N\\r\\nLP002472,Male,No,2,Graduate,No,4354,0,136,360,1,Rural,Y\\r\\nLP002473,Male,Yes,0,Graduate,No,8334,0,160,360,1,Semiurban,N\\r\\nLP002478,,Yes,0,Graduate,Yes,2083,4083,160,360,,Semiurban,Y\\r\\nLP002484,Male,Yes,3+,Graduate,No,7740,0,128,180,1,Urban,Y\\r\\nLP002487,Male,Yes,0,Graduate,No,3015,2188,153,360,1,Rural,Y\\r\\nLP002489,Female,No,1,Not Graduate,,5191,0,132,360,1,Semiurban,Y\\r\\nLP002493,Male,No,0,Graduate,No,4166,0,98,360,0,Semiurban,N\\r\\nLP002494,Male,No,0,Graduate,No,6000,0,140,360,1,Rural,Y\\r\\nLP002500,Male,Yes,3+,Not Graduate,No,2947,1664,70,180,0,Urban,N\\r\\nLP002501,,Yes,0,Graduate,No,16692,0,110,360,1,Semiurban,Y\\r\\nLP002502,Female,Yes,2,Not Graduate,,210,2917,98,360,1,Semiurban,Y\\r\\nLP002505,Male,Yes,0,Graduate,No,4333,2451,110,360,1,Urban,N\\r\\nLP002515,Male,Yes,1,Graduate,Yes,3450,2079,162,360,1,Semiurban,Y\\r\\nLP002517,Male,Yes,1,Not Graduate,No,2653,1500,113,180,0,Rural,N\\r\\nLP002519,Male,Yes,3+,Graduate,No,4691,0,100,360,1,Semiurban,Y\\r\\nLP002522,Female,No,0,Graduate,Yes,2500,0,93,360,,Urban,Y\\r\\nLP002524,Male,No,2,Graduate,No,5532,4648,162,360,1,Rural,Y\\r\\nLP002527,Male,Yes,2,Graduate,Yes,16525,1014,150,360,1,Rural,Y\\r\\nLP002529,Male,Yes,2,Graduate,No,6700,1750,230,300,1,Semiurban,Y\\r\\nLP002530,,Yes,2,Graduate,No,2873,1872,132,360,0,Semiurban,N\\r\\nLP002531,Male,Yes,1,Graduate,Yes,16667,2250,86,360,1,Semiurban,Y\\r\\nLP002533,Male,Yes,2,Graduate,No,2947,1603,,360,1,Urban,N\\r\\nLP002534,Female,No,0,Not Graduate,No,4350,0,154,360,1,Rural,Y\\r\\nLP002536,Male,Yes,3+,Not Graduate,No,3095,0,113,360,1,Rural,Y\\r\\nLP002537,Male,Yes,0,Graduate,No,2083,3150,128,360,1,Semiurban,Y\\r\\nLP002541,Male,Yes,0,Graduate,No,10833,0,234,360,1,Semiurban,Y\\r\\nLP002543,Male,Yes,2,Graduate,No,8333,0,246,360,1,Semiurban,Y\\r\\nLP002544,Male,Yes,1,Not Graduate,No,1958,2436,131,360,1,Rural,Y\\r\\nLP002545,Male,No,2,Graduate,No,3547,0,80,360,0,Rural,N\\r\\nLP002547,Male,Yes,1,Graduate,No,18333,0,500,360,1,Urban,N\\r\\nLP002555,Male,Yes,2,Graduate,Yes,4583,2083,160,360,1,Semiurban,Y\\r\\nLP002556,Male,No,0,Graduate,No,2435,0,75,360,1,Urban,N\\r\\nLP002560,Male,No,0,Not Graduate,No,2699,2785,96,360,,Semiurban,Y\\r\\nLP002562,Male,Yes,1,Not Graduate,No,5333,1131,186,360,,Urban,Y\\r\\nLP002571,Male,No,0,Not Graduate,No,3691,0,110,360,1,Rural,Y\\r\\nLP002582,Female,No,0,Not Graduate,Yes,17263,0,225,360,1,Semiurban,Y\\r\\nLP002585,Male,Yes,0,Graduate,No,3597,2157,119,360,0,Rural,N\\r\\nLP002586,Female,Yes,1,Graduate,No,3326,913,105,84,1,Semiurban,Y\\r\\nLP002587,Male,Yes,0,Not Graduate,No,2600,1700,107,360,1,Rural,Y\\r\\nLP002588,Male,Yes,0,Graduate,No,4625,2857,111,12,,Urban,Y\\r\\nLP002600,Male,Yes,1,Graduate,Yes,2895,0,95,360,1,Semiurban,Y\\r\\nLP002602,Male,No,0,Graduate,No,6283,4416,209,360,0,Rural,N\\r\\nLP002603,Female,No,0,Graduate,No,645,3683,113,480,1,Rural,Y\\r\\nLP002606,Female,No,0,Graduate,No,3159,0,100,360,1,Semiurban,Y\\r\\nLP002615,Male,Yes,2,Graduate,No,4865,5624,208,360,1,Semiurban,Y\\r\\nLP002618,Male,Yes,1,Not Graduate,No,4050,5302,138,360,,Rural,N\\r\\nLP002619,Male,Yes,0,Not Graduate,No,3814,1483,124,300,1,Semiurban,Y\\r\\nLP002622,Male,Yes,2,Graduate,No,3510,4416,243,360,1,Rural,Y\\r\\nLP002624,Male,Yes,0,Graduate,No,20833,6667,480,360,,Urban,Y\\r\\nLP002625,,No,0,Graduate,No,3583,0,96,360,1,Urban,N\\r\\nLP002626,Male,Yes,0,Graduate,Yes,2479,3013,188,360,1,Urban,Y\\r\\nLP002634,Female,No,1,Graduate,No,13262,0,40,360,1,Urban,Y\\r\\nLP002637,Male,No,0,Not Graduate,No,3598,1287,100,360,1,Rural,N\\r\\nLP002640,Male,Yes,1,Graduate,No,6065,2004,250,360,1,Semiurban,Y\\r\\nLP002643,Male,Yes,2,Graduate,No,3283,2035,148,360,1,Urban,Y\\r\\nLP002648,Male,Yes,0,Graduate,No,2130,6666,70,180,1,Semiurban,N\\r\\nLP002652,Male,No,0,Graduate,No,5815,3666,311,360,1,Rural,N\\r\\nLP002659,Male,Yes,3+,Graduate,No,3466,3428,150,360,1,Rural,Y\\r\\nLP002670,Female,Yes,2,Graduate,No,2031,1632,113,480,1,Semiurban,Y\\r\\nLP002682,Male,Yes,,Not Graduate,No,3074,1800,123,360,0,Semiurban,N\\r\\nLP002683,Male,No,0,Graduate,No,4683,1915,185,360,1,Semiurban,N\\r\\nLP002684,Female,No,0,Not Graduate,No,3400,0,95,360,1,Rural,N\\r\\nLP002689,Male,Yes,2,Not Graduate,No,2192,1742,45,360,1,Semiurban,Y\\r\\nLP002690,Male,No,0,Graduate,No,2500,0,55,360,1,Semiurban,Y\\r\\nLP002692,Male,Yes,3+,Graduate,Yes,5677,1424,100,360,1,Rural,Y\\r\\nLP002693,Male,Yes,2,Graduate,Yes,7948,7166,480,360,1,Rural,Y\\r\\nLP002697,Male,No,0,Graduate,No,4680,2087,,360,1,Semiurban,N\\r\\nLP002699,Male,Yes,2,Graduate,Yes,17500,0,400,360,1,Rural,Y\\r\\nLP002705,Male,Yes,0,Graduate,No,3775,0,110,360,1,Semiurban,Y\\r\\nLP002706,Male,Yes,1,Not Graduate,No,5285,1430,161,360,0,Semiurban,Y\\r\\nLP002714,Male,No,1,Not Graduate,No,2679,1302,94,360,1,Semiurban,Y\\r\\nLP002716,Male,No,0,Not Graduate,No,6783,0,130,360,1,Semiurban,Y\\r\\nLP002717,Male,Yes,0,Graduate,No,1025,5500,216,360,,Rural,Y\\r\\nLP002720,Male,Yes,3+,Graduate,No,4281,0,100,360,1,Urban,Y\\r\\nLP002723,Male,No,2,Graduate,No,3588,0,110,360,0,Rural,N\\r\\nLP002729,Male,No,1,Graduate,No,11250,0,196,360,,Semiurban,N\\r\\nLP002731,Female,No,0,Not Graduate,Yes,18165,0,125,360,1,Urban,Y\\r\\nLP002732,Male,No,0,Not Graduate,,2550,2042,126,360,1,Rural,Y\\r\\nLP002734,Male,Yes,0,Graduate,No,6133,3906,324,360,1,Urban,Y\\r\\nLP002738,Male,No,2,Graduate,No,3617,0,107,360,1,Semiurban,Y\\r\\nLP002739,Male,Yes,0,Not Graduate,No,2917,536,66,360,1,Rural,N\\r\\nLP002740,Male,Yes,3+,Graduate,No,6417,0,157,180,1,Rural,Y\\r\\nLP002741,Female,Yes,1,Graduate,No,4608,2845,140,180,1,Semiurban,Y\\r\\nLP002743,Female,No,0,Graduate,No,2138,0,99,360,0,Semiurban,N\\r\\nLP002753,Female,No,1,Graduate,,3652,0,95,360,1,Semiurban,Y\\r\\nLP002755,Male,Yes,1,Not Graduate,No,2239,2524,128,360,1,Urban,Y\\r\\nLP002757,Female,Yes,0,Not Graduate,No,3017,663,102,360,,Semiurban,Y\\r\\nLP002767,Male,Yes,0,Graduate,No,2768,1950,155,360,1,Rural,Y\\r\\nLP002768,Male,No,0,Not Graduate,No,3358,0,80,36,1,Semiurban,N\\r\\nLP002772,Male,No,0,Graduate,No,2526,1783,145,360,1,Rural,Y\\r\\nLP002776,Female,No,0,Graduate,No,5000,0,103,360,0,Semiurban,N\\r\\nLP002777,Male,Yes,0,Graduate,No,2785,2016,110,360,1,Rural,Y\\r\\nLP002778,Male,Yes,2,Graduate,Yes,6633,0,,360,0,Rural,N\\r\\nLP002784,Male,Yes,1,Not Graduate,No,2492,2375,,360,1,Rural,Y\\r\\nLP002785,Male,Yes,1,Graduate,No,3333,3250,158,360,1,Urban,Y\\r\\nLP002788,Male,Yes,0,Not Graduate,No,2454,2333,181,360,0,Urban,N\\r\\nLP002789,Male,Yes,0,Graduate,No,3593,4266,132,180,0,Rural,N\\r\\nLP002792,Male,Yes,1,Graduate,No,5468,1032,26,360,1,Semiurban,Y\\r\\nLP002794,Female,No,0,Graduate,No,2667,1625,84,360,,Urban,Y\\r\\nLP002795,Male,Yes,3+,Graduate,Yes,10139,0,260,360,1,Semiurban,Y\\r\\nLP002798,Male,Yes,0,Graduate,No,3887,2669,162,360,1,Semiurban,Y\\r\\nLP002804,Female,Yes,0,Graduate,No,4180,2306,182,360,1,Semiurban,Y\\r\\nLP002807,Male,Yes,2,Not Graduate,No,3675,242,108,360,1,Semiurban,Y\\r\\nLP002813,Female,Yes,1,Graduate,Yes,19484,0,600,360,1,Semiurban,Y\\r\\nLP002820,Male,Yes,0,Graduate,No,5923,2054,211,360,1,Rural,Y\\r\\nLP002821,Male,No,0,Not Graduate,Yes,5800,0,132,360,1,Semiurban,Y\\r\\nLP002832,Male,Yes,2,Graduate,No,8799,0,258,360,0,Urban,N\\r\\nLP002833,Male,Yes,0,Not Graduate,No,4467,0,120,360,,Rural,Y\\r\\nLP002836,Male,No,0,Graduate,No,3333,0,70,360,1,Urban,Y\\r\\nLP002837,Male,Yes,3+,Graduate,No,3400,2500,123,360,0,Rural,N\\r\\nLP002840,Female,No,0,Graduate,No,2378,0,9,360,1,Urban,N\\r\\nLP002841,Male,Yes,0,Graduate,No,3166,2064,104,360,0,Urban,N\\r\\nLP002842,Male,Yes,1,Graduate,No,3417,1750,186,360,1,Urban,Y\\r\\nLP002847,Male,Yes,,Graduate,No,5116,1451,165,360,0,Urban,N\\r\\nLP002855,Male,Yes,2,Graduate,No,16666,0,275,360,1,Urban,Y\\r\\nLP002862,Male,Yes,2,Not Graduate,No,6125,1625,187,480,1,Semiurban,N\\r\\nLP002863,Male,Yes,3+,Graduate,No,6406,0,150,360,1,Semiurban,N\\r\\nLP002868,Male,Yes,2,Graduate,No,3159,461,108,84,1,Urban,Y\\r\\nLP002872,,Yes,0,Graduate,No,3087,2210,136,360,0,Semiurban,N\\r\\nLP002874,Male,No,0,Graduate,No,3229,2739,110,360,1,Urban,Y\\r\\nLP002877,Male,Yes,1,Graduate,No,1782,2232,107,360,1,Rural,Y\\r\\nLP002888,Male,No,0,Graduate,,3182,2917,161,360,1,Urban,Y\\r\\nLP002892,Male,Yes,2,Graduate,No,6540,0,205,360,1,Semiurban,Y\\r\\nLP002893,Male,No,0,Graduate,No,1836,33837,90,360,1,Urban,N\\r\\nLP002894,Female,Yes,0,Graduate,No,3166,0,36,360,1,Semiurban,Y\\r\\nLP002898,Male,Yes,1,Graduate,No,1880,0,61,360,,Rural,N\\r\\nLP002911,Male,Yes,1,Graduate,No,2787,1917,146,360,0,Rural,N\\r\\nLP002912,Male,Yes,1,Graduate,No,4283,3000,172,84,1,Rural,N\\r\\nLP002916,Male,Yes,0,Graduate,No,2297,1522,104,360,1,Urban,Y\\r\\nLP002917,Female,No,0,Not Graduate,No,2165,0,70,360,1,Semiurban,Y\\r\\nLP002925,,No,0,Graduate,No,4750,0,94,360,1,Semiurban,Y\\r\\nLP002926,Male,Yes,2,Graduate,Yes,2726,0,106,360,0,Semiurban,N\\r\\nLP002928,Male,Yes,0,Graduate,No,3000,3416,56,180,1,Semiurban,Y\\r\\nLP002931,Male,Yes,2,Graduate,Yes,6000,0,205,240,1,Semiurban,N\\r\\nLP002933,,No,3+,Graduate,Yes,9357,0,292,360,1,Semiurban,Y\\r\\nLP002936,Male,Yes,0,Graduate,No,3859,3300,142,180,1,Rural,Y\\r\\nLP002938,Male,Yes,0,Graduate,Yes,16120,0,260,360,1,Urban,Y\\r\\nLP002940,Male,No,0,Not Graduate,No,3833,0,110,360,1,Rural,Y\\r\\nLP002941,Male,Yes,2,Not Graduate,Yes,6383,1000,187,360,1,Rural,N\\r\\nLP002943,Male,No,,Graduate,No,2987,0,88,360,0,Semiurban,N\\r\\nLP002945,Male,Yes,0,Graduate,Yes,9963,0,180,360,1,Rural,Y\\r\\nLP002948,Male,Yes,2,Graduate,No,5780,0,192,360,1,Urban,Y\\r\\nLP002949,Female,No,3+,Graduate,,416,41667,350,180,,Urban,N\\r\\nLP002950,Male,Yes,0,Not Graduate,,2894,2792,155,360,1,Rural,Y\\r\\nLP002953,Male,Yes,3+,Graduate,No,5703,0,128,360,1,Urban,Y\\r\\nLP002958,Male,No,0,Graduate,No,3676,4301,172,360,1,Rural,Y\\r\\nLP002959,Female,Yes,1,Graduate,No,12000,0,496,360,1,Semiurban,Y\\r\\nLP002960,Male,Yes,0,Not Graduate,No,2400,3800,,180,1,Urban,N\\r\\nLP002961,Male,Yes,1,Graduate,No,3400,2500,173,360,1,Semiurban,Y\\r\\nLP002964,Male,Yes,2,Not Graduate,No,3987,1411,157,360,1,Rural,Y\\r\\nLP002974,Male,Yes,0,Graduate,No,3232,1950,108,360,1,Rural,Y\\r\\nLP002978,Female,No,0,Graduate,No,2900,0,71,360,1,Rural,Y\\r\\nLP002979,Male,Yes,3+,Graduate,No,4106,0,40,180,1,Rural,Y\\r\\nLP002983,Male,Yes,1,Graduate,No,8072,240,253,360,1,Urban,Y\\r\\nLP002984,Male,Yes,2,Graduate,No,7583,0,187,360,1,Urban,Y\\r\\nLP002990,Female,No,0,Graduate,Yes,4583,0,133,360,0,Semiurban,N'}"
            ]
          },
          "metadata": {
            "tags": []
          },
          "execution_count": 2
        }
      ]
    },
    {
      "cell_type": "code",
      "metadata": {
        "id": "99G9VzU-0qiP",
        "trusted": true,
        "colab_type": "code",
        "colab": {}
      },
      "source": [
        "train=pd.read_csv(\"train.csv\")\n",
        "test=pd.read_csv(\"test.csv\")"
      ],
      "execution_count": null,
      "outputs": []
    },
    {
      "cell_type": "code",
      "metadata": {
        "id": "RhZk6-R41DJa",
        "trusted": true,
        "colab_type": "code",
        "colab": {
          "base_uri": "https://localhost:8080/",
          "height": 107
        },
        "outputId": "35ebafea-dd76-4a79-c0bc-44ada8b56063"
      },
      "source": [
        "train.head(2)"
      ],
      "execution_count": null,
      "outputs": [
        {
          "output_type": "execute_result",
          "data": {
            "text/html": [
              "<div>\n",
              "<style scoped>\n",
              "    .dataframe tbody tr th:only-of-type {\n",
              "        vertical-align: middle;\n",
              "    }\n",
              "\n",
              "    .dataframe tbody tr th {\n",
              "        vertical-align: top;\n",
              "    }\n",
              "\n",
              "    .dataframe thead th {\n",
              "        text-align: right;\n",
              "    }\n",
              "</style>\n",
              "<table border=\"1\" class=\"dataframe\">\n",
              "  <thead>\n",
              "    <tr style=\"text-align: right;\">\n",
              "      <th></th>\n",
              "      <th>Loan_ID</th>\n",
              "      <th>Gender</th>\n",
              "      <th>Married</th>\n",
              "      <th>Dependents</th>\n",
              "      <th>Education</th>\n",
              "      <th>Self_Employed</th>\n",
              "      <th>ApplicantIncome</th>\n",
              "      <th>CoapplicantIncome</th>\n",
              "      <th>LoanAmount</th>\n",
              "      <th>Loan_Amount_Term</th>\n",
              "      <th>Credit_History</th>\n",
              "      <th>Property_Area</th>\n",
              "      <th>Loan_Status</th>\n",
              "    </tr>\n",
              "  </thead>\n",
              "  <tbody>\n",
              "    <tr>\n",
              "      <th>0</th>\n",
              "      <td>LP001002</td>\n",
              "      <td>Male</td>\n",
              "      <td>No</td>\n",
              "      <td>0</td>\n",
              "      <td>Graduate</td>\n",
              "      <td>No</td>\n",
              "      <td>5849</td>\n",
              "      <td>0.0</td>\n",
              "      <td>NaN</td>\n",
              "      <td>360.0</td>\n",
              "      <td>1.0</td>\n",
              "      <td>Urban</td>\n",
              "      <td>Y</td>\n",
              "    </tr>\n",
              "    <tr>\n",
              "      <th>1</th>\n",
              "      <td>LP001003</td>\n",
              "      <td>Male</td>\n",
              "      <td>Yes</td>\n",
              "      <td>1</td>\n",
              "      <td>Graduate</td>\n",
              "      <td>No</td>\n",
              "      <td>4583</td>\n",
              "      <td>1508.0</td>\n",
              "      <td>128.0</td>\n",
              "      <td>360.0</td>\n",
              "      <td>1.0</td>\n",
              "      <td>Rural</td>\n",
              "      <td>N</td>\n",
              "    </tr>\n",
              "  </tbody>\n",
              "</table>\n",
              "</div>"
            ],
            "text/plain": [
              "    Loan_ID Gender Married  ... Credit_History Property_Area Loan_Status\n",
              "0  LP001002   Male      No  ...            1.0         Urban           Y\n",
              "1  LP001003   Male     Yes  ...            1.0         Rural           N\n",
              "\n",
              "[2 rows x 13 columns]"
            ]
          },
          "metadata": {
            "tags": []
          },
          "execution_count": 4
        }
      ]
    },
    {
      "cell_type": "code",
      "metadata": {
        "id": "2goaS77q1FTs",
        "trusted": true,
        "colab_type": "code",
        "colab": {}
      },
      "source": [
        "#Loan ID is dropped because it is not required\n",
        "train=train.drop([\"Loan_ID\"],axis=1)\n",
        "test=test.drop([\"Loan_ID\"],axis=1)"
      ],
      "execution_count": null,
      "outputs": []
    },
    {
      "cell_type": "code",
      "metadata": {
        "id": "Uw2k8p9K1cqf",
        "trusted": true,
        "colab_type": "code",
        "colab": {
          "base_uri": "https://localhost:8080/",
          "height": 233
        },
        "outputId": "7beffeee-ac09-4785-f39a-c4d443c2ebb1"
      },
      "source": [
        "print(train.isnull().sum())"
      ],
      "execution_count": null,
      "outputs": [
        {
          "output_type": "stream",
          "text": [
            "Gender               13\n",
            "Married               3\n",
            "Dependents           15\n",
            "Education             0\n",
            "Self_Employed        32\n",
            "ApplicantIncome       0\n",
            "CoapplicantIncome     0\n",
            "LoanAmount           22\n",
            "Loan_Amount_Term     14\n",
            "Credit_History       50\n",
            "Property_Area         0\n",
            "Loan_Status           0\n",
            "dtype: int64\n"
          ],
          "name": "stdout"
        }
      ]
    },
    {
      "cell_type": "code",
      "metadata": {
        "id": "D2dLEgW03Lnh",
        "trusted": true,
        "colab_type": "code",
        "colab": {
          "base_uri": "https://localhost:8080/",
          "height": 333
        },
        "outputId": "e74d83a3-0f49-4ab4-a866-4f86dc84ab4c"
      },
      "source": [
        "train.info()"
      ],
      "execution_count": null,
      "outputs": [
        {
          "output_type": "stream",
          "text": [
            "<class 'pandas.core.frame.DataFrame'>\n",
            "RangeIndex: 614 entries, 0 to 613\n",
            "Data columns (total 12 columns):\n",
            " #   Column             Non-Null Count  Dtype  \n",
            "---  ------             --------------  -----  \n",
            " 0   Gender             601 non-null    object \n",
            " 1   Married            611 non-null    object \n",
            " 2   Dependents         599 non-null    object \n",
            " 3   Education          614 non-null    object \n",
            " 4   Self_Employed      582 non-null    object \n",
            " 5   ApplicantIncome    614 non-null    int64  \n",
            " 6   CoapplicantIncome  614 non-null    float64\n",
            " 7   LoanAmount         592 non-null    float64\n",
            " 8   Loan_Amount_Term   600 non-null    float64\n",
            " 9   Credit_History     564 non-null    float64\n",
            " 10  Property_Area      614 non-null    object \n",
            " 11  Loan_Status        614 non-null    object \n",
            "dtypes: float64(4), int64(1), object(7)\n",
            "memory usage: 57.7+ KB\n"
          ],
          "name": "stdout"
        }
      ]
    },
    {
      "cell_type": "code",
      "metadata": {
        "id": "A1_7dq_26aAX",
        "trusted": true,
        "colab_type": "code",
        "colab": {}
      },
      "source": [
        "#Credit History and Loan Amount Term are categorical variables\n",
        "train[\"Credit_History\"]=train[\"Credit_History\"].astype(\"object\")"
      ],
      "execution_count": null,
      "outputs": []
    },
    {
      "cell_type": "code",
      "metadata": {
        "id": "r4pVz-pQ5Onk",
        "trusted": true,
        "colab_type": "code",
        "colab": {}
      },
      "source": [
        "#KNN imputation\n",
        "#Assigning levels to the categories\n",
        "lis = []\n",
        "for i in range(0, train.shape[1]):\n",
        "    if(train.iloc[:,i].dtypes == 'object'):\n",
        "        train.iloc[:,i] = pd.Categorical(train.iloc[:,i])\n",
        "        train.iloc[:,i] = train.iloc[:,i].cat.codes \n",
        "        train.iloc[:,i] = train.iloc[:,i].astype('object')\n",
        "        lis.append(train.columns[i])"
      ],
      "execution_count": null,
      "outputs": []
    },
    {
      "cell_type": "code",
      "metadata": {
        "id": "xQGaGm6A7q4i",
        "trusted": true,
        "colab_type": "code",
        "colab": {}
      },
      "source": [
        "#replace -1 with NA to impute\n",
        "for i in range(0, train.shape[1]):\n",
        "    train.iloc[:,i] = train.iloc[:,i].replace(-1, np.nan) "
      ],
      "execution_count": null,
      "outputs": []
    },
    {
      "cell_type": "code",
      "metadata": {
        "id": "0WB0J7ZY737z",
        "trusted": true,
        "colab_type": "code",
        "colab": {
          "base_uri": "https://localhost:8080/",
          "height": 133
        },
        "outputId": "cee54635-9c90-4f5a-9273-7da8a5ca4ec3"
      },
      "source": [
        "#Apply KNN imputation algorithm\n",
        "train = pd.DataFrame(KNN(k = 3).fit_transform(train), columns = train.columns)"
      ],
      "execution_count": null,
      "outputs": [
        {
          "output_type": "stream",
          "text": [
            "Imputing row 1/614 with 1 missing, elapsed time: 0.073\n",
            "Imputing row 101/614 with 0 missing, elapsed time: 0.074\n",
            "Imputing row 201/614 with 0 missing, elapsed time: 0.075\n",
            "Imputing row 301/614 with 0 missing, elapsed time: 0.076\n",
            "Imputing row 401/614 with 0 missing, elapsed time: 0.077\n",
            "Imputing row 501/614 with 0 missing, elapsed time: 0.078\n",
            "Imputing row 601/614 with 2 missing, elapsed time: 0.079\n"
          ],
          "name": "stdout"
        }
      ]
    },
    {
      "cell_type": "code",
      "metadata": {
        "id": "30dJBN5r8psv",
        "trusted": true,
        "colab_type": "code",
        "colab": {}
      },
      "source": [
        "#Convert into proper datatypes\n",
        "for i in lis:\n",
        "    train.loc[:,i] = train.loc[:,i].round()\n",
        "    train.loc[:,i] = train.loc[:,i].astype('object')"
      ],
      "execution_count": null,
      "outputs": []
    },
    {
      "cell_type": "code",
      "metadata": {
        "id": "wiDz4Lin9Xnu",
        "trusted": true,
        "colab_type": "code",
        "colab": {
          "base_uri": "https://localhost:8080/",
          "height": 197
        },
        "outputId": "290392b8-6826-44f1-9e49-64b5448e32f0"
      },
      "source": [
        "train.head()"
      ],
      "execution_count": null,
      "outputs": [
        {
          "output_type": "execute_result",
          "data": {
            "text/html": [
              "<div>\n",
              "<style scoped>\n",
              "    .dataframe tbody tr th:only-of-type {\n",
              "        vertical-align: middle;\n",
              "    }\n",
              "\n",
              "    .dataframe tbody tr th {\n",
              "        vertical-align: top;\n",
              "    }\n",
              "\n",
              "    .dataframe thead th {\n",
              "        text-align: right;\n",
              "    }\n",
              "</style>\n",
              "<table border=\"1\" class=\"dataframe\">\n",
              "  <thead>\n",
              "    <tr style=\"text-align: right;\">\n",
              "      <th></th>\n",
              "      <th>Gender</th>\n",
              "      <th>Married</th>\n",
              "      <th>Dependents</th>\n",
              "      <th>Education</th>\n",
              "      <th>Self_Employed</th>\n",
              "      <th>ApplicantIncome</th>\n",
              "      <th>CoapplicantIncome</th>\n",
              "      <th>LoanAmount</th>\n",
              "      <th>Loan_Amount_Term</th>\n",
              "      <th>Credit_History</th>\n",
              "      <th>Property_Area</th>\n",
              "      <th>Loan_Status</th>\n",
              "    </tr>\n",
              "  </thead>\n",
              "  <tbody>\n",
              "    <tr>\n",
              "      <th>0</th>\n",
              "      <td>1</td>\n",
              "      <td>0</td>\n",
              "      <td>0</td>\n",
              "      <td>0</td>\n",
              "      <td>0</td>\n",
              "      <td>5849.0</td>\n",
              "      <td>0.0</td>\n",
              "      <td>139.237669</td>\n",
              "      <td>360.0</td>\n",
              "      <td>1</td>\n",
              "      <td>2</td>\n",
              "      <td>1</td>\n",
              "    </tr>\n",
              "    <tr>\n",
              "      <th>1</th>\n",
              "      <td>1</td>\n",
              "      <td>1</td>\n",
              "      <td>1</td>\n",
              "      <td>0</td>\n",
              "      <td>0</td>\n",
              "      <td>4583.0</td>\n",
              "      <td>1508.0</td>\n",
              "      <td>128.000000</td>\n",
              "      <td>360.0</td>\n",
              "      <td>1</td>\n",
              "      <td>0</td>\n",
              "      <td>0</td>\n",
              "    </tr>\n",
              "    <tr>\n",
              "      <th>2</th>\n",
              "      <td>1</td>\n",
              "      <td>1</td>\n",
              "      <td>0</td>\n",
              "      <td>0</td>\n",
              "      <td>1</td>\n",
              "      <td>3000.0</td>\n",
              "      <td>0.0</td>\n",
              "      <td>66.000000</td>\n",
              "      <td>360.0</td>\n",
              "      <td>1</td>\n",
              "      <td>2</td>\n",
              "      <td>1</td>\n",
              "    </tr>\n",
              "    <tr>\n",
              "      <th>3</th>\n",
              "      <td>1</td>\n",
              "      <td>1</td>\n",
              "      <td>0</td>\n",
              "      <td>1</td>\n",
              "      <td>0</td>\n",
              "      <td>2583.0</td>\n",
              "      <td>2358.0</td>\n",
              "      <td>120.000000</td>\n",
              "      <td>360.0</td>\n",
              "      <td>1</td>\n",
              "      <td>2</td>\n",
              "      <td>1</td>\n",
              "    </tr>\n",
              "    <tr>\n",
              "      <th>4</th>\n",
              "      <td>1</td>\n",
              "      <td>0</td>\n",
              "      <td>0</td>\n",
              "      <td>0</td>\n",
              "      <td>0</td>\n",
              "      <td>6000.0</td>\n",
              "      <td>0.0</td>\n",
              "      <td>141.000000</td>\n",
              "      <td>360.0</td>\n",
              "      <td>1</td>\n",
              "      <td>2</td>\n",
              "      <td>1</td>\n",
              "    </tr>\n",
              "  </tbody>\n",
              "</table>\n",
              "</div>"
            ],
            "text/plain": [
              "  Gender Married Dependents  ... Credit_History Property_Area  Loan_Status\n",
              "0      1       0          0  ...              1             2            1\n",
              "1      1       1          1  ...              1             0            0\n",
              "2      1       1          0  ...              1             2            1\n",
              "3      1       1          0  ...              1             2            1\n",
              "4      1       0          0  ...              1             2            1\n",
              "\n",
              "[5 rows x 12 columns]"
            ]
          },
          "metadata": {
            "tags": []
          },
          "execution_count": 13
        }
      ]
    },
    {
      "cell_type": "code",
      "metadata": {
        "id": "Hx23coJJ9Zft",
        "trusted": true,
        "colab_type": "code",
        "colab": {
          "base_uri": "https://localhost:8080/",
          "height": 372
        },
        "outputId": "94431679-5582-41d1-c068-2bcac8ce67bc"
      },
      "source": [
        "#Checking correlation between continuous variable\n",
        "numvar=[\"ApplicantIncome\",\"CoapplicantIncome\",\"LoanAmount\",\"Loan_Amount_Term\"]\n",
        "df_corr = train.loc[:,numvar]\n",
        "sns.heatmap(df_corr.corr(), annot = True, fmt='.2g',cmap= 'coolwarm')"
      ],
      "execution_count": null,
      "outputs": [
        {
          "output_type": "execute_result",
          "data": {
            "text/plain": [
              "<matplotlib.axes._subplots.AxesSubplot at 0x7fbad3d78cf8>"
            ]
          },
          "metadata": {
            "tags": []
          },
          "execution_count": 14
        },
        {
          "output_type": "display_data",
          "data": {
            "image/png": "[encoded data removed]",
            "text/plain": [
              "<Figure size 432x288 with 2 Axes>"
            ]
          },
          "metadata": {
            "tags": [],
            "needs_background": "light"
          }
        }
      ]
    },
    {
      "cell_type": "code",
      "metadata": {
        "id": "7MDqqpW--nlb",
        "trusted": true,
        "colab_type": "code",
        "colab": {}
      },
      "source": [
        "#Standardizing the numerical variables\n",
        "train[\"ApplicantIncome\"]= (train[\"ApplicantIncome\"] - train[\"ApplicantIncome\"].mean())/train[\"ApplicantIncome\"].std()\n",
        "train[\"CoapplicantIncome\"]= (train[\"CoapplicantIncome\"] - train[\"CoapplicantIncome\"].mean())/train[\"CoapplicantIncome\"].std()\n",
        "train[\"LoanAmount\"]= (train[\"LoanAmount\"] - train[\"LoanAmount\"].mean())/train[\"LoanAmount\"].std()\n",
        "train[\"Loan_Amount_Term\"]= (train[\"Loan_Amount_Term\"] - train[\"Loan_Amount_Term\"].mean())/train[\"Loan_Amount_Term\"].std()"
      ],
      "execution_count": null,
      "outputs": []
    },
    {
      "cell_type": "code",
      "metadata": {
        "id": "IzCEuyo5_rGh",
        "trusted": true,
        "colab_type": "code",
        "colab": {}
      },
      "source": [
        "X=train.drop([\"Loan_Status\"],axis=1)\n",
        "Y=train[\"Loan_Status\"]\n",
        "Y=Y.astype(int)\n",
        "x=np.array(X)\n",
        "y=np.array(Y)"
      ],
      "execution_count": null,
      "outputs": []
    },
    {
      "cell_type": "code",
      "metadata": {
        "id": "Rh0Pzj51Aq23",
        "trusted": true,
        "colab_type": "code",
        "colab": {}
      },
      "source": [
        "#GBM and XGBoost\n",
        "gbm = GradientBoostingClassifier()\n",
        "xgb = XGBClassifier()"
      ],
      "execution_count": null,
      "outputs": []
    },
    {
      "cell_type": "code",
      "metadata": {
        "id": "76fBaeyrBTO-",
        "trusted": true,
        "colab_type": "code",
        "colab": {
          "base_uri": "https://localhost:8080/",
          "height": 50
        },
        "outputId": "c7508e8f-0a4e-4168-fb13-a512220149fc"
      },
      "source": [
        "best_gbm = GridSearchCV(gbm, param_grid={'learning_rate':[0.01,0.05,0.1],'max_depth':[3,4,5],'n_estimators':[500]}, cv=5,scoring=\"accuracy\", n_jobs=-1)\n",
        "best_xgb = GridSearchCV(xgb, param_grid={'learning_rate':[0.01,0.05,0.1],'max_depth':[3,4,5],'n_estimators':[500]}, cv=5,scoring=\"accuracy\", n_jobs=-1)\n",
        "best_gbm.fit(x,y)\n",
        "best_xgb.fit(x,y)\n",
        "scores = cross_val_score(best_gbm.best_estimator_, x, y,scoring=\"accuracy\", cv=5)\n",
        "print(\"GBM Cross validation accuracy score: {0:.2%} (+/- {1:.2%})\".format(np.mean(scores), np.std(scores)*2))\n",
        "scores = cross_val_score(best_xgb.best_estimator_, x, y,scoring=\"accuracy\", cv=5)\n",
        "print(\"XGBoost Cross validation accuracy score: {0:.2%} (+/- {1:.2%})\".format(np.mean(scores), np.std(scores)*2))"
      ],
      "execution_count": null,
      "outputs": [
        {
          "output_type": "stream",
          "text": [
            "GBM Cross validation accuracy score: 79.65% (+/- 5.86%)\n",
            "XGBoost Cross validation accuracy score: 79.97% (+/- 4.63%)\n"
          ],
          "name": "stdout"
        }
      ]
    },
    {
      "cell_type": "code",
      "metadata": {
        "id": "DoSShwNNBb_8",
        "trusted": true,
        "colab_type": "code",
        "colab": {
          "base_uri": "https://localhost:8080/",
          "height": 50
        },
        "outputId": "d353a1d7-88fc-4db5-da29-e32932f67dec"
      },
      "source": [
        "best_gbm1 = GridSearchCV(gbm, param_grid={'learning_rate':[0.01,0.05,0.1],'max_depth':[3,4,5],'n_estimators':[500]}, cv=5,scoring=\"recall\", n_jobs=-1)\n",
        "best_xgb1 = GridSearchCV(xgb, param_grid={'learning_rate':[0.01,0.05,0.1],'max_depth':[3,4,5],'n_estimators':[500]}, cv=5,scoring=\"recall\", n_jobs=-1)\n",
        "best_gbm1.fit(x,y)\n",
        "best_xgb1.fit(x,y)\n",
        "scores = cross_val_score(best_gbm1.best_estimator_, x, y,scoring=\"recall\", cv=5)\n",
        "print(\"GBM Cross validation recall score: {0:.2%} (+/- {1:.2%})\".format(np.mean(scores), np.std(scores)*2))\n",
        "scores = cross_val_score(best_xgb1.best_estimator_, x, y,scoring=\"recall\", cv=5)\n",
        "print(\"XGBoost Cross validation recall score: {0:.2%} (+/- {1:.2%})\".format(np.mean(scores), np.std(scores)*2))"
      ],
      "execution_count": null,
      "outputs": [
        {
          "output_type": "stream",
          "text": [
            "GBM Cross validation recall score: 95.26% (+/- 3.36%)\n",
            "XGBoost Cross validation recall score: 96.20% (+/- 1.80%)\n"
          ],
          "name": "stdout"
        }
      ]
    },
    {
      "cell_type": "code",
      "metadata": {
        "id": "DsJAGylhGKOE",
        "trusted": true,
        "colab_type": "code",
        "colab": {},
        "outputId": "08536c72-3dac-4e43-cd3f-9d38b6894be8"
      },
      "source": [
        "#Naive Bayes\n",
        "parameters = {'priors':[[0.01, 0.99],[0.1, 0.9], [0.2, 0.8], [0.25, 0.75], [0.3, 0.7],[0.35, 0.65], [0.4, 0.6],[0.45,0.55],[0.5,0.5],[0.55,0.45],[0.6,0.4]]}\n",
        "nb = GridSearchCV(GaussianNB(), parameters, scoring = 'accuracy', n_jobs=-1)\n",
        "nb.fit(x, y)\n",
        "scores = cross_val_score(nb, x, y,scoring = 'accuracy', cv=5)\n",
        "print(\"Cross validation accuracy score: {0:.2%} (+/- {1:.2%})\".format(np.mean(scores), np.std(scores)*2))"
      ],
      "execution_count": null,
      "outputs": [
        {
          "output_type": "stream",
          "text": [
            "Cross validation accuracy score: 79.97% (+/- 5.83%)\n"
          ],
          "name": "stdout"
        }
      ]
    },
    {
      "cell_type": "code",
      "metadata": {
        "trusted": true,
        "id": "Yn5_dfGumz4A",
        "colab_type": "code",
        "colab": {},
        "outputId": "14a6b11a-5175-4525-dff0-9e849fdb6bd8"
      },
      "source": [
        "nb1 = GridSearchCV(GaussianNB(), parameters, scoring = 'recall', n_jobs=-1)\n",
        "nb1.fit(x, y)\n",
        "scores = cross_val_score(nb1, x, y,scoring = 'recall', cv=5)\n",
        "print(\"Cross validation recall score: {0:.2%} (+/- {1:.2%})\".format(np.mean(scores), np.std(scores)*2))"
      ],
      "execution_count": null,
      "outputs": [
        {
          "output_type": "stream",
          "text": [
            "Cross validation recall score: 95.97% (+/- 3.85%)\n"
          ],
          "name": "stdout"
        }
      ]
    },
    {
      "cell_type": "code",
      "metadata": {
        "id": "fB-Rj6P7Gvs4",
        "trusted": true,
        "colab_type": "code",
        "colab": {},
        "outputId": "3653c951-9cad-4c56-a03b-0c01813231d2"
      },
      "source": [
        "#Random Forest\n",
        "parameters = {'n_estimators':[500], 'criterion':['gini', 'entropy']}\n",
        "rf = GridSearchCV(RandomForestClassifier(random_state=42), parameters, scoring = 'accuracy', n_jobs=-1)\n",
        "rf.fit(x, y)\n",
        "scores = cross_val_score(rf, x, y,scoring=\"accuracy\", cv=5)\n",
        "print(\"Cross validation accuracy score: {0:.2%} (+/- {1:.2%})\".format(np.mean(scores), np.std(scores)*2))"
      ],
      "execution_count": null,
      "outputs": [
        {
          "output_type": "stream",
          "text": [
            "Cross validation accuracy score: 79.32% (+/- 5.26%)\n"
          ],
          "name": "stdout"
        }
      ]
    },
    {
      "cell_type": "code",
      "metadata": {
        "trusted": true,
        "id": "22zvXvYEmz4M",
        "colab_type": "code",
        "colab": {},
        "outputId": "4228911e-e792-4c6b-dc2e-3003d42caa7b"
      },
      "source": [
        "rf1 = GridSearchCV(RandomForestClassifier(random_state=42), parameters, scoring = 'recall', n_jobs=-1)\n",
        "rf1.fit(x, y)\n",
        "scores = cross_val_score(rf1, x, y,scoring=\"recall\", cv=5)\n",
        "print(\"Cross validation recall score: {0:.2%} (+/- {1:.2%})\".format(np.mean(scores), np.std(scores)*2))"
      ],
      "execution_count": null,
      "outputs": [
        {
          "output_type": "stream",
          "text": [
            "Cross validation recall score: 93.60% (+/- 1.93%)\n"
          ],
          "name": "stdout"
        }
      ]
    },
    {
      "cell_type": "markdown",
      "metadata": {
        "id": "nU6VgeKFWvXv",
        "colab_type": "text"
      },
      "source": [
        "Doing all the similar pre processing for test data"
      ]
    },
    {
      "cell_type": "code",
      "metadata": {
        "id": "LakEE5DlMJxI",
        "trusted": true,
        "colab_type": "code",
        "colab": {}
      },
      "source": [
        "test[\"Credit_History\"]=test[\"Credit_History\"].astype(\"object\")"
      ],
      "execution_count": null,
      "outputs": []
    },
    {
      "cell_type": "code",
      "metadata": {
        "id": "LrBB7BbdOcPQ",
        "trusted": true,
        "colab_type": "code",
        "colab": {}
      },
      "source": [
        "#KNN imputation\n",
        "#Assigning levels to the categories\n",
        "lis = []\n",
        "for i in range(0, test.shape[1]):\n",
        "    if(test.iloc[:,i].dtypes == 'object'):\n",
        "        test.iloc[:,i] = pd.Categorical(test.iloc[:,i])\n",
        "        test.iloc[:,i] = test.iloc[:,i].cat.codes \n",
        "        test.iloc[:,i] = test.iloc[:,i].astype('object')\n",
        "        lis.append(test.columns[i])"
      ],
      "execution_count": null,
      "outputs": []
    },
    {
      "cell_type": "code",
      "metadata": {
        "id": "A8eclRvZOmp8",
        "trusted": true,
        "colab_type": "code",
        "colab": {}
      },
      "source": [
        "#replace -1 with NA to impute\n",
        "for i in range(0, test.shape[1]):\n",
        "    test.iloc[:,i] = test.iloc[:,i].replace(-1, np.nan) "
      ],
      "execution_count": null,
      "outputs": []
    },
    {
      "cell_type": "code",
      "metadata": {
        "id": "6gzLzUuBOn4w",
        "trusted": true,
        "colab_type": "code",
        "colab": {
          "base_uri": "https://localhost:8080/",
          "height": 83
        },
        "outputId": "2b944863-8618-43f3-8c7a-e6b6e3633ff5"
      },
      "source": [
        "#Apply KNN imputation algorithm\n",
        "test = pd.DataFrame(KNN(k = 3).fit_transform(test), columns = test.columns)"
      ],
      "execution_count": null,
      "outputs": [
        {
          "output_type": "stream",
          "text": [
            "Imputing row 1/367 with 0 missing, elapsed time: 0.033\n",
            "Imputing row 101/367 with 0 missing, elapsed time: 0.034\n",
            "Imputing row 201/367 with 0 missing, elapsed time: 0.036\n",
            "Imputing row 301/367 with 0 missing, elapsed time: 0.037\n"
          ],
          "name": "stdout"
        }
      ]
    },
    {
      "cell_type": "code",
      "metadata": {
        "id": "_Ojx_WpNOwgw",
        "trusted": true,
        "colab_type": "code",
        "colab": {}
      },
      "source": [
        "#Convert into proper datatypes\n",
        "for i in lis:\n",
        "    test.loc[:,i] = test.loc[:,i].round()\n",
        "    test.loc[:,i] = test.loc[:,i].astype('object')"
      ],
      "execution_count": null,
      "outputs": []
    },
    {
      "cell_type": "code",
      "metadata": {
        "id": "brEuPTBCO4gK",
        "trusted": true,
        "colab_type": "code",
        "colab": {}
      },
      "source": [
        "test[\"ApplicantIncome\"]= (test[\"ApplicantIncome\"] - test[\"ApplicantIncome\"].mean())/test[\"ApplicantIncome\"].std()\n",
        "test[\"CoapplicantIncome\"]= (test[\"CoapplicantIncome\"] - test[\"CoapplicantIncome\"].mean())/test[\"CoapplicantIncome\"].std()\n",
        "test[\"LoanAmount\"]= (test[\"LoanAmount\"] - test[\"LoanAmount\"].mean())/test[\"LoanAmount\"].std()\n",
        "test[\"Loan_Amount_Term\"]= (test[\"Loan_Amount_Term\"] - test[\"Loan_Amount_Term\"].mean())/test[\"Loan_Amount_Term\"].std()"
      ],
      "execution_count": null,
      "outputs": []
    },
    {
      "cell_type": "code",
      "metadata": {
        "id": "gnEnu2x9PC0c",
        "trusted": true,
        "colab_type": "code",
        "colab": {}
      },
      "source": [
        "x=np.array(test)"
      ],
      "execution_count": null,
      "outputs": []
    },
    {
      "cell_type": "code",
      "metadata": {
        "id": "48DkDRVMPRlK",
        "trusted": true,
        "colab_type": "code",
        "colab": {}
      },
      "source": [
        "#Prediction\n",
        "ypred=best_xgb1.best_estimator_.predict(x)"
      ],
      "execution_count": null,
      "outputs": []
    },
    {
      "cell_type": "markdown",
      "metadata": {
        "id": "X0QBNwlZRfqX",
        "colab_type": "text"
      },
      "source": [
        "1: Y\n",
        "0: N"
      ]
    },
    {
      "cell_type": "code",
      "metadata": {
        "id": "e1qMnJd4Q6i-",
        "trusted": true,
        "colab_type": "code",
        "colab": {}
      },
      "source": [
        "test=pd.read_csv(\"test.csv\")\n",
        "test[\"Loan_Status\"]=ypred"
      ],
      "execution_count": null,
      "outputs": []
    },
    {
      "cell_type": "code",
      "metadata": {
        "id": "Fy5U-00wR63V",
        "trusted": true,
        "colab_type": "code",
        "colab": {}
      },
      "source": [
        "dict = {0 : 'N', 1: 'Y'} "
      ],
      "execution_count": null,
      "outputs": []
    },
    {
      "cell_type": "code",
      "metadata": {
        "id": "WnxuC94WSE54",
        "trusted": true,
        "colab_type": "code",
        "colab": {}
      },
      "source": [
        "test['Loan_Status']= test['Loan_Status'].map(dict) "
      ],
      "execution_count": null,
      "outputs": []
    },
    {
      "cell_type": "code",
      "metadata": {
        "id": "u--o7jlxSJ5c",
        "trusted": true,
        "colab_type": "code",
        "colab": {
          "base_uri": "https://localhost:8080/",
          "height": 83
        },
        "outputId": "249a8b3a-2906-4dd5-c275-80d02913d0f2"
      },
      "source": [
        "test.columns"
      ],
      "execution_count": null,
      "outputs": [
        {
          "output_type": "execute_result",
          "data": {
            "text/plain": [
              "Index(['Loan_ID', 'Gender', 'Married', 'Dependents', 'Education',\n",
              "       'Self_Employed', 'ApplicantIncome', 'CoapplicantIncome', 'LoanAmount',\n",
              "       'Loan_Amount_Term', 'Credit_History', 'Property_Area', 'Loan_Status'],\n",
              "      dtype='object')"
            ]
          },
          "metadata": {
            "tags": []
          },
          "execution_count": 38
        }
      ]
    },
    {
      "cell_type": "code",
      "metadata": {
        "id": "47hsfdxwSNij",
        "trusted": true,
        "colab_type": "code",
        "colab": {}
      },
      "source": [
        "test=test.drop(['Gender', 'Married', 'Dependents', 'Education',\n",
        "       'Self_Employed', 'ApplicantIncome', 'CoapplicantIncome', 'LoanAmount',\n",
        "       'Loan_Amount_Term', 'Credit_History', 'Property_Area'],axis=1)"
      ],
      "execution_count": null,
      "outputs": []
    },
    {
      "cell_type": "code",
      "metadata": {
        "id": "sa5Lf_8vSW-s",
        "trusted": true,
        "colab_type": "code",
        "colab": {
          "base_uri": "https://localhost:8080/",
          "height": 197
        },
        "outputId": "1e20baa5-d5a4-4d7e-d2a1-256645d033d9"
      },
      "source": [
        "test.head()"
      ],
      "execution_count": null,
      "outputs": [
        {
          "output_type": "execute_result",
          "data": {
            "text/html": [
              "<div>\n",
              "<style scoped>\n",
              "    .dataframe tbody tr th:only-of-type {\n",
              "        vertical-align: middle;\n",
              "    }\n",
              "\n",
              "    .dataframe tbody tr th {\n",
              "        vertical-align: top;\n",
              "    }\n",
              "\n",
              "    .dataframe thead th {\n",
              "        text-align: right;\n",
              "    }\n",
              "</style>\n",
              "<table border=\"1\" class=\"dataframe\">\n",
              "  <thead>\n",
              "    <tr style=\"text-align: right;\">\n",
              "      <th></th>\n",
              "      <th>Loan_ID</th>\n",
              "      <th>Loan_Status</th>\n",
              "    </tr>\n",
              "  </thead>\n",
              "  <tbody>\n",
              "    <tr>\n",
              "      <th>0</th>\n",
              "      <td>LP001015</td>\n",
              "      <td>Y</td>\n",
              "    </tr>\n",
              "    <tr>\n",
              "      <th>1</th>\n",
              "      <td>LP001022</td>\n",
              "      <td>Y</td>\n",
              "    </tr>\n",
              "    <tr>\n",
              "      <th>2</th>\n",
              "      <td>LP001031</td>\n",
              "      <td>Y</td>\n",
              "    </tr>\n",
              "    <tr>\n",
              "      <th>3</th>\n",
              "      <td>LP001035</td>\n",
              "      <td>Y</td>\n",
              "    </tr>\n",
              "    <tr>\n",
              "      <th>4</th>\n",
              "      <td>LP001051</td>\n",
              "      <td>N</td>\n",
              "    </tr>\n",
              "  </tbody>\n",
              "</table>\n",
              "</div>"
            ],
            "text/plain": [
              "    Loan_ID Loan_Status\n",
              "0  LP001015           Y\n",
              "1  LP001022           Y\n",
              "2  LP001031           Y\n",
              "3  LP001035           Y\n",
              "4  LP001051           N"
            ]
          },
          "metadata": {
            "tags": []
          },
          "execution_count": 40
        }
      ]
    },
    {
      "cell_type": "code",
      "metadata": {
        "id": "e7Xjp40QTf81",
        "trusted": true,
        "colab_type": "code",
        "colab": {}
      },
      "source": [
        "test.to_csv(\"submissionfinal.csv\")"
      ],
      "execution_count": null,
      "outputs": []
    },
    {
      "cell_type": "code",
      "metadata": {
        "id": "IJogn5AxoNHS",
        "colab_type": "code",
        "colab": {}
      },
      "source": [
        ""
      ],
      "execution_count": null,
      "outputs": []
    }
  ]
}